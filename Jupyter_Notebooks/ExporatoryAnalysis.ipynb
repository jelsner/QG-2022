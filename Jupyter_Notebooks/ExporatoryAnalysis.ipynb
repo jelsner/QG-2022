{
 "cells": [
  {
   "cell_type": "markdown",
   "id": "3406900a",
   "metadata": {},
   "source": [
    "Exploratory analysis with Julia\n",
    "\n",
    "From: https://github.com/mohdsanadzakirizvi/Data-Science-with-Julia"
   ]
  },
  {
   "cell_type": "markdown",
   "id": "ae1a64f4",
   "metadata": {},
   "source": [
    "Data"
   ]
  },
  {
   "cell_type": "code",
   "execution_count": 5,
   "id": "997d5b36",
   "metadata": {},
   "outputs": [],
   "source": [
    "using DataFrames"
   ]
  },
  {
   "cell_type": "markdown",
   "id": "d9d8c5ca",
   "metadata": {},
   "source": [
    "Understanding data frames in julia\n",
    "\n",
    "https://dataframes.juliadata.org/stable/man/basics/#First-Steps-with-DataFrames.jl"
   ]
  },
  {
   "cell_type": "code",
   "execution_count": 7,
   "id": "2a22aaeb",
   "metadata": {},
   "outputs": [],
   "source": [
    "using CSV"
   ]
  },
  {
   "cell_type": "code",
   "execution_count": 8,
   "id": "fde8b622",
   "metadata": {},
   "outputs": [
    {
     "data": {
      "text/html": [
       "<div class=\"data-frame\"><p>614 rows × 13 columns (omitted printing of 6 columns)</p><table class=\"data-frame\"><thead><tr><th></th><th>Loan_ID</th><th>Gender</th><th>Married</th><th>Dependents</th><th>Education</th><th>Self_Employed</th><th>ApplicantIncome</th></tr><tr><th></th><th title=\"String15\">String15</th><th title=\"Union{Missing, String7}\">String7?</th><th title=\"Union{Missing, String3}\">String3?</th><th title=\"Union{Missing, String3}\">String3?</th><th title=\"String15\">String15</th><th title=\"Union{Missing, String3}\">String3?</th><th title=\"Int64\">Int64</th></tr></thead><tbody><tr><th>1</th><td>LP001002</td><td>Male</td><td>No</td><td>0</td><td>Graduate</td><td>No</td><td>5849</td></tr><tr><th>2</th><td>LP001003</td><td>Male</td><td>Yes</td><td>1</td><td>Graduate</td><td>No</td><td>4583</td></tr><tr><th>3</th><td>LP001005</td><td>Male</td><td>Yes</td><td>0</td><td>Graduate</td><td>Yes</td><td>3000</td></tr><tr><th>4</th><td>LP001006</td><td>Male</td><td>Yes</td><td>0</td><td>Not Graduate</td><td>No</td><td>2583</td></tr><tr><th>5</th><td>LP001008</td><td>Male</td><td>No</td><td>0</td><td>Graduate</td><td>No</td><td>6000</td></tr><tr><th>6</th><td>LP001011</td><td>Male</td><td>Yes</td><td>2</td><td>Graduate</td><td>Yes</td><td>5417</td></tr><tr><th>7</th><td>LP001013</td><td>Male</td><td>Yes</td><td>0</td><td>Not Graduate</td><td>No</td><td>2333</td></tr><tr><th>8</th><td>LP001014</td><td>Male</td><td>Yes</td><td>3+</td><td>Graduate</td><td>No</td><td>3036</td></tr><tr><th>9</th><td>LP001018</td><td>Male</td><td>Yes</td><td>2</td><td>Graduate</td><td>No</td><td>4006</td></tr><tr><th>10</th><td>LP001020</td><td>Male</td><td>Yes</td><td>1</td><td>Graduate</td><td>No</td><td>12841</td></tr><tr><th>11</th><td>LP001024</td><td>Male</td><td>Yes</td><td>2</td><td>Graduate</td><td>No</td><td>3200</td></tr><tr><th>12</th><td>LP001027</td><td>Male</td><td>Yes</td><td>2</td><td>Graduate</td><td><em>missing</em></td><td>2500</td></tr><tr><th>13</th><td>LP001028</td><td>Male</td><td>Yes</td><td>2</td><td>Graduate</td><td>No</td><td>3073</td></tr><tr><th>14</th><td>LP001029</td><td>Male</td><td>No</td><td>0</td><td>Graduate</td><td>No</td><td>1853</td></tr><tr><th>15</th><td>LP001030</td><td>Male</td><td>Yes</td><td>2</td><td>Graduate</td><td>No</td><td>1299</td></tr><tr><th>16</th><td>LP001032</td><td>Male</td><td>No</td><td>0</td><td>Graduate</td><td>No</td><td>4950</td></tr><tr><th>17</th><td>LP001034</td><td>Male</td><td>No</td><td>1</td><td>Not Graduate</td><td>No</td><td>3596</td></tr><tr><th>18</th><td>LP001036</td><td>Female</td><td>No</td><td>0</td><td>Graduate</td><td>No</td><td>3510</td></tr><tr><th>19</th><td>LP001038</td><td>Male</td><td>Yes</td><td>0</td><td>Not Graduate</td><td>No</td><td>4887</td></tr><tr><th>20</th><td>LP001041</td><td>Male</td><td>Yes</td><td>0</td><td>Graduate</td><td><em>missing</em></td><td>2600</td></tr><tr><th>21</th><td>LP001043</td><td>Male</td><td>Yes</td><td>0</td><td>Not Graduate</td><td>No</td><td>7660</td></tr><tr><th>22</th><td>LP001046</td><td>Male</td><td>Yes</td><td>1</td><td>Graduate</td><td>No</td><td>5955</td></tr><tr><th>23</th><td>LP001047</td><td>Male</td><td>Yes</td><td>0</td><td>Not Graduate</td><td>No</td><td>2600</td></tr><tr><th>24</th><td>LP001050</td><td><em>missing</em></td><td>Yes</td><td>2</td><td>Not Graduate</td><td>No</td><td>3365</td></tr><tr><th>25</th><td>LP001052</td><td>Male</td><td>Yes</td><td>1</td><td>Graduate</td><td><em>missing</em></td><td>3717</td></tr><tr><th>26</th><td>LP001066</td><td>Male</td><td>Yes</td><td>0</td><td>Graduate</td><td>Yes</td><td>9560</td></tr><tr><th>27</th><td>LP001068</td><td>Male</td><td>Yes</td><td>0</td><td>Graduate</td><td>No</td><td>2799</td></tr><tr><th>28</th><td>LP001073</td><td>Male</td><td>Yes</td><td>2</td><td>Not Graduate</td><td>No</td><td>4226</td></tr><tr><th>29</th><td>LP001086</td><td>Male</td><td>No</td><td>0</td><td>Not Graduate</td><td>No</td><td>1442</td></tr><tr><th>30</th><td>LP001087</td><td>Female</td><td>No</td><td>2</td><td>Graduate</td><td><em>missing</em></td><td>3750</td></tr><tr><th>&vellip;</th><td>&vellip;</td><td>&vellip;</td><td>&vellip;</td><td>&vellip;</td><td>&vellip;</td><td>&vellip;</td><td>&vellip;</td></tr></tbody></table></div>"
      ],
      "text/latex": [
       "\\begin{tabular}{r|cccccccc}\n",
       "\t& Loan\\_ID & Gender & Married & Dependents & Education & Self\\_Employed & ApplicantIncome & \\\\\n",
       "\t\\hline\n",
       "\t& String15 & String7? & String3? & String3? & String15 & String3? & Int64 & \\\\\n",
       "\t\\hline\n",
       "\t1 & LP001002 & Male & No & 0 & Graduate & No & 5849 & $\\dots$ \\\\\n",
       "\t2 & LP001003 & Male & Yes & 1 & Graduate & No & 4583 & $\\dots$ \\\\\n",
       "\t3 & LP001005 & Male & Yes & 0 & Graduate & Yes & 3000 & $\\dots$ \\\\\n",
       "\t4 & LP001006 & Male & Yes & 0 & Not Graduate & No & 2583 & $\\dots$ \\\\\n",
       "\t5 & LP001008 & Male & No & 0 & Graduate & No & 6000 & $\\dots$ \\\\\n",
       "\t6 & LP001011 & Male & Yes & 2 & Graduate & Yes & 5417 & $\\dots$ \\\\\n",
       "\t7 & LP001013 & Male & Yes & 0 & Not Graduate & No & 2333 & $\\dots$ \\\\\n",
       "\t8 & LP001014 & Male & Yes & 3+ & Graduate & No & 3036 & $\\dots$ \\\\\n",
       "\t9 & LP001018 & Male & Yes & 2 & Graduate & No & 4006 & $\\dots$ \\\\\n",
       "\t10 & LP001020 & Male & Yes & 1 & Graduate & No & 12841 & $\\dots$ \\\\\n",
       "\t11 & LP001024 & Male & Yes & 2 & Graduate & No & 3200 & $\\dots$ \\\\\n",
       "\t12 & LP001027 & Male & Yes & 2 & Graduate & \\emph{missing} & 2500 & $\\dots$ \\\\\n",
       "\t13 & LP001028 & Male & Yes & 2 & Graduate & No & 3073 & $\\dots$ \\\\\n",
       "\t14 & LP001029 & Male & No & 0 & Graduate & No & 1853 & $\\dots$ \\\\\n",
       "\t15 & LP001030 & Male & Yes & 2 & Graduate & No & 1299 & $\\dots$ \\\\\n",
       "\t16 & LP001032 & Male & No & 0 & Graduate & No & 4950 & $\\dots$ \\\\\n",
       "\t17 & LP001034 & Male & No & 1 & Not Graduate & No & 3596 & $\\dots$ \\\\\n",
       "\t18 & LP001036 & Female & No & 0 & Graduate & No & 3510 & $\\dots$ \\\\\n",
       "\t19 & LP001038 & Male & Yes & 0 & Not Graduate & No & 4887 & $\\dots$ \\\\\n",
       "\t20 & LP001041 & Male & Yes & 0 & Graduate & \\emph{missing} & 2600 & $\\dots$ \\\\\n",
       "\t21 & LP001043 & Male & Yes & 0 & Not Graduate & No & 7660 & $\\dots$ \\\\\n",
       "\t22 & LP001046 & Male & Yes & 1 & Graduate & No & 5955 & $\\dots$ \\\\\n",
       "\t23 & LP001047 & Male & Yes & 0 & Not Graduate & No & 2600 & $\\dots$ \\\\\n",
       "\t24 & LP001050 & \\emph{missing} & Yes & 2 & Not Graduate & No & 3365 & $\\dots$ \\\\\n",
       "\t25 & LP001052 & Male & Yes & 1 & Graduate & \\emph{missing} & 3717 & $\\dots$ \\\\\n",
       "\t26 & LP001066 & Male & Yes & 0 & Graduate & Yes & 9560 & $\\dots$ \\\\\n",
       "\t27 & LP001068 & Male & Yes & 0 & Graduate & No & 2799 & $\\dots$ \\\\\n",
       "\t28 & LP001073 & Male & Yes & 2 & Not Graduate & No & 4226 & $\\dots$ \\\\\n",
       "\t29 & LP001086 & Male & No & 0 & Not Graduate & No & 1442 & $\\dots$ \\\\\n",
       "\t30 & LP001087 & Female & No & 2 & Graduate & \\emph{missing} & 3750 & $\\dots$ \\\\\n",
       "\t$\\dots$ & $\\dots$ & $\\dots$ & $\\dots$ & $\\dots$ & $\\dots$ & $\\dots$ & $\\dots$ &  \\\\\n",
       "\\end{tabular}\n"
      ],
      "text/plain": [
       "\u001b[1m614×13 DataFrame\u001b[0m\n",
       "\u001b[1m Row \u001b[0m│\u001b[1m Loan_ID  \u001b[0m\u001b[1m Gender   \u001b[0m\u001b[1m Married  \u001b[0m\u001b[1m Dependents \u001b[0m\u001b[1m Education    \u001b[0m\u001b[1m Self_Employed \u001b[0m\u001b[1m \u001b[0m ⋯\n",
       "\u001b[1m     \u001b[0m│\u001b[90m String15 \u001b[0m\u001b[90m String7? \u001b[0m\u001b[90m String3? \u001b[0m\u001b[90m String3?   \u001b[0m\u001b[90m String15     \u001b[0m\u001b[90m String3?      \u001b[0m\u001b[90m \u001b[0m ⋯\n",
       "─────┼──────────────────────────────────────────────────────────────────────────\n",
       "   1 │ LP001002  Male      No        0           Graduate      No              ⋯\n",
       "   2 │ LP001003  Male      Yes       1           Graduate      No\n",
       "   3 │ LP001005  Male      Yes       0           Graduate      Yes\n",
       "   4 │ LP001006  Male      Yes       0           Not Graduate  No\n",
       "   5 │ LP001008  Male      No        0           Graduate      No              ⋯\n",
       "   6 │ LP001011  Male      Yes       2           Graduate      Yes\n",
       "   7 │ LP001013  Male      Yes       0           Not Graduate  No\n",
       "   8 │ LP001014  Male      Yes       3+          Graduate      No\n",
       "   9 │ LP001018  Male      Yes       2           Graduate      No              ⋯\n",
       "  10 │ LP001020  Male      Yes       1           Graduate      No\n",
       "  11 │ LP001024  Male      Yes       2           Graduate      No\n",
       "  ⋮  │    ⋮         ⋮         ⋮          ⋮            ⋮              ⋮         ⋱\n",
       " 605 │ LP002959  Female    Yes       1           Graduate      No\n",
       " 606 │ LP002960  Male      Yes       0           Not Graduate  No              ⋯\n",
       " 607 │ LP002961  Male      Yes       1           Graduate      No\n",
       " 608 │ LP002964  Male      Yes       2           Not Graduate  No\n",
       " 609 │ LP002974  Male      Yes       0           Graduate      No\n",
       " 610 │ LP002978  Female    No        0           Graduate      No              ⋯\n",
       " 611 │ LP002979  Male      Yes       3+          Graduate      No\n",
       " 612 │ LP002983  Male      Yes       1           Graduate      No\n",
       " 613 │ LP002984  Male      Yes       2           Graduate      No\n",
       " 614 │ LP002990  Female    No        0           Graduate      Yes             ⋯\n",
       "\u001b[36m                                                  7 columns and 593 rows omitted\u001b[0m"
      ]
     },
     "execution_count": 8,
     "metadata": {},
     "output_type": "execute_result"
    }
   ],
   "source": [
    "train = CSV.read(\"data/train.csv\", DataFrame)"
   ]
  },
  {
   "cell_type": "code",
   "execution_count": 9,
   "id": "55bc3093",
   "metadata": {},
   "outputs": [
    {
     "data": {
      "text/plain": [
       "(614, 13)"
      ]
     },
     "execution_count": 9,
     "metadata": {},
     "output_type": "execute_result"
    }
   ],
   "source": [
    "size(train)"
   ]
  },
  {
   "cell_type": "code",
   "execution_count": 10,
   "id": "7cb4cca0",
   "metadata": {},
   "outputs": [
    {
     "data": {
      "text/plain": [
       "13-element Vector{String}:\n",
       " \"Loan_ID\"\n",
       " \"Gender\"\n",
       " \"Married\"\n",
       " \"Dependents\"\n",
       " \"Education\"\n",
       " \"Self_Employed\"\n",
       " \"ApplicantIncome\"\n",
       " \"CoapplicantIncome\"\n",
       " \"LoanAmount\"\n",
       " \"Loan_Amount_Term\"\n",
       " \"Credit_History\"\n",
       " \"Property_Area\"\n",
       " \"Loan_Status\""
      ]
     },
     "execution_count": 10,
     "metadata": {},
     "output_type": "execute_result"
    }
   ],
   "source": [
    "names(train)"
   ]
  },
  {
   "cell_type": "code",
   "execution_count": 19,
   "id": "4bd37a45",
   "metadata": {},
   "outputs": [
    {
     "data": {
      "text/html": [
       "<div class=\"data-frame\"><p>13 rows × 7 columns</p><table class=\"data-frame\"><thead><tr><th></th><th>variable</th><th>mean</th><th>min</th><th>median</th><th>max</th><th>nmissing</th><th>eltype</th></tr><tr><th></th><th title=\"Symbol\">Symbol</th><th title=\"Union{Nothing, Float64}\">Union…</th><th title=\"Any\">Any</th><th title=\"Union{Nothing, Float64}\">Union…</th><th title=\"Any\">Any</th><th title=\"Int64\">Int64</th><th title=\"Type\">Type</th></tr></thead><tbody><tr><th>1</th><td>Loan_ID</td><td></td><td>LP001002</td><td></td><td>LP002990</td><td>0</td><td>String15</td></tr><tr><th>2</th><td>Gender</td><td></td><td>Female</td><td></td><td>Male</td><td>13</td><td>Union{Missing, String7}</td></tr><tr><th>3</th><td>Married</td><td></td><td>No</td><td></td><td>Yes</td><td>3</td><td>Union{Missing, String3}</td></tr><tr><th>4</th><td>Dependents</td><td></td><td>0</td><td></td><td>3+</td><td>15</td><td>Union{Missing, String3}</td></tr><tr><th>5</th><td>Education</td><td></td><td>Graduate</td><td></td><td>Not Graduate</td><td>0</td><td>String15</td></tr><tr><th>6</th><td>Self_Employed</td><td></td><td>No</td><td></td><td>Yes</td><td>32</td><td>Union{Missing, String3}</td></tr><tr><th>7</th><td>ApplicantIncome</td><td>5403.46</td><td>150</td><td>3812.5</td><td>81000</td><td>0</td><td>Int64</td></tr><tr><th>8</th><td>CoapplicantIncome</td><td>1621.25</td><td>0.0</td><td>1188.5</td><td>41667.0</td><td>0</td><td>Float64</td></tr><tr><th>9</th><td>LoanAmount</td><td>146.412</td><td>9</td><td>128.0</td><td>700</td><td>22</td><td>Union{Missing, Int64}</td></tr><tr><th>10</th><td>Loan_Amount_Term</td><td>342.0</td><td>12</td><td>360.0</td><td>480</td><td>14</td><td>Union{Missing, Int64}</td></tr><tr><th>11</th><td>Credit_History</td><td>0.842199</td><td>0</td><td>1.0</td><td>1</td><td>50</td><td>Union{Missing, Int64}</td></tr><tr><th>12</th><td>Property_Area</td><td></td><td>Rural</td><td></td><td>Urban</td><td>0</td><td>String15</td></tr><tr><th>13</th><td>Loan_Status</td><td></td><td>N</td><td></td><td>Y</td><td>0</td><td>String1</td></tr></tbody></table></div>"
      ],
      "text/latex": [
       "\\begin{tabular}{r|ccccccc}\n",
       "\t& variable & mean & min & median & max & nmissing & eltype\\\\\n",
       "\t\\hline\n",
       "\t& Symbol & Union… & Any & Union… & Any & Int64 & Type\\\\\n",
       "\t\\hline\n",
       "\t1 & Loan\\_ID &  & LP001002 &  & LP002990 & 0 & String15 \\\\\n",
       "\t2 & Gender &  & Female &  & Male & 13 & Union\\{Missing, String7\\} \\\\\n",
       "\t3 & Married &  & No &  & Yes & 3 & Union\\{Missing, String3\\} \\\\\n",
       "\t4 & Dependents &  & 0 &  & 3+ & 15 & Union\\{Missing, String3\\} \\\\\n",
       "\t5 & Education &  & Graduate &  & Not Graduate & 0 & String15 \\\\\n",
       "\t6 & Self\\_Employed &  & No &  & Yes & 32 & Union\\{Missing, String3\\} \\\\\n",
       "\t7 & ApplicantIncome & 5403.46 & 150 & 3812.5 & 81000 & 0 & Int64 \\\\\n",
       "\t8 & CoapplicantIncome & 1621.25 & 0.0 & 1188.5 & 41667.0 & 0 & Float64 \\\\\n",
       "\t9 & LoanAmount & 146.412 & 9 & 128.0 & 700 & 22 & Union\\{Missing, Int64\\} \\\\\n",
       "\t10 & Loan\\_Amount\\_Term & 342.0 & 12 & 360.0 & 480 & 14 & Union\\{Missing, Int64\\} \\\\\n",
       "\t11 & Credit\\_History & 0.842199 & 0 & 1.0 & 1 & 50 & Union\\{Missing, Int64\\} \\\\\n",
       "\t12 & Property\\_Area &  & Rural &  & Urban & 0 & String15 \\\\\n",
       "\t13 & Loan\\_Status &  & N &  & Y & 0 & String1 \\\\\n",
       "\\end{tabular}\n"
      ],
      "text/plain": [
       "\u001b[1m13×7 DataFrame\u001b[0m\n",
       "\u001b[1m Row \u001b[0m│\u001b[1m variable          \u001b[0m\u001b[1m mean     \u001b[0m\u001b[1m min      \u001b[0m\u001b[1m median \u001b[0m\u001b[1m max          \u001b[0m\u001b[1m nmissing \u001b[0m\u001b[1m \u001b[0m ⋯\n",
       "\u001b[1m     \u001b[0m│\u001b[90m Symbol            \u001b[0m\u001b[90m Union…   \u001b[0m\u001b[90m Any      \u001b[0m\u001b[90m Union… \u001b[0m\u001b[90m Any          \u001b[0m\u001b[90m Int64    \u001b[0m\u001b[90m \u001b[0m ⋯\n",
       "─────┼──────────────────────────────────────────────────────────────────────────\n",
       "   1 │ Loan_ID           \u001b[90m          \u001b[0m LP001002 \u001b[90m        \u001b[0m LP002990             0   ⋯\n",
       "   2 │ Gender            \u001b[90m          \u001b[0m Female   \u001b[90m        \u001b[0m Male                13\n",
       "   3 │ Married           \u001b[90m          \u001b[0m No       \u001b[90m        \u001b[0m Yes                  3\n",
       "   4 │ Dependents        \u001b[90m          \u001b[0m 0        \u001b[90m        \u001b[0m 3+                  15\n",
       "   5 │ Education         \u001b[90m          \u001b[0m Graduate \u001b[90m        \u001b[0m Not Graduate         0   ⋯\n",
       "   6 │ Self_Employed     \u001b[90m          \u001b[0m No       \u001b[90m        \u001b[0m Yes                 32\n",
       "   7 │ ApplicantIncome    5403.46   150       3812.5  81000                0\n",
       "   8 │ CoapplicantIncome  1621.25   0.0       1188.5  41667.0              0\n",
       "   9 │ LoanAmount         146.412   9         128.0   700                 22   ⋯\n",
       "  10 │ Loan_Amount_Term   342.0     12        360.0   480                 14\n",
       "  11 │ Credit_History     0.842199  0         1.0     1                   50\n",
       "  12 │ Property_Area     \u001b[90m          \u001b[0m Rural    \u001b[90m        \u001b[0m Urban                0\n",
       "  13 │ Loan_Status       \u001b[90m          \u001b[0m N        \u001b[90m        \u001b[0m Y                    0   ⋯\n",
       "\u001b[36m                                                                1 column omitted\u001b[0m"
      ]
     },
     "execution_count": 19,
     "metadata": {},
     "output_type": "execute_result"
    }
   ],
   "source": [
    "describe(train)"
   ]
  },
  {
   "cell_type": "code",
   "execution_count": 19,
   "id": "d2cea097",
   "metadata": {},
   "outputs": [
    {
     "data": {
      "text/html": [
       "<div class=\"data-frame\"><p>1 rows × 13 columns (omitted printing of 4 columns)</p><table class=\"data-frame\"><thead><tr><th></th><th>variable</th><th>mean</th><th>std</th><th>min</th><th>q25</th><th>median</th><th>q75</th><th>max</th><th>nunique</th></tr><tr><th></th><th title=\"Symbol\">Symbol</th><th title=\"Float64\">Float64</th><th title=\"Float64\">Float64</th><th title=\"Int64\">Int64</th><th title=\"Float64\">Float64</th><th title=\"Float64\">Float64</th><th title=\"Float64\">Float64</th><th title=\"Int64\">Int64</th><th title=\"Nothing\">Nothing</th></tr></thead><tbody><tr><th>1</th><td>LoanAmount</td><td>146.412</td><td>85.5873</td><td>9</td><td>100.0</td><td>128.0</td><td>168.0</td><td>700</td><td></td></tr></tbody></table></div>"
      ],
      "text/latex": [
       "\\begin{tabular}{r|cccccccccc}\n",
       "\t& variable & mean & std & min & q25 & median & q75 & max & nunique & \\\\\n",
       "\t\\hline\n",
       "\t& Symbol & Float64 & Float64 & Int64 & Float64 & Float64 & Float64 & Int64 & Nothing & \\\\\n",
       "\t\\hline\n",
       "\t1 & LoanAmount & 146.412 & 85.5873 & 9 & 100.0 & 128.0 & 168.0 & 700 &  & $\\dots$ \\\\\n",
       "\\end{tabular}\n"
      ],
      "text/plain": [
       "\u001b[1m1×13 DataFrame\u001b[0m\n",
       "\u001b[1m Row \u001b[0m│\u001b[1m variable   \u001b[0m\u001b[1m mean    \u001b[0m\u001b[1m std     \u001b[0m\u001b[1m min   \u001b[0m\u001b[1m q25     \u001b[0m\u001b[1m median  \u001b[0m\u001b[1m q75     \u001b[0m\u001b[1m max   \u001b[0m\u001b[1m \u001b[0m ⋯\n",
       "\u001b[1m     \u001b[0m│\u001b[90m Symbol     \u001b[0m\u001b[90m Float64 \u001b[0m\u001b[90m Float64 \u001b[0m\u001b[90m Int64 \u001b[0m\u001b[90m Float64 \u001b[0m\u001b[90m Float64 \u001b[0m\u001b[90m Float64 \u001b[0m\u001b[90m Int64 \u001b[0m\u001b[90m \u001b[0m ⋯\n",
       "─────┼──────────────────────────────────────────────────────────────────────────\n",
       "   1 │ LoanAmount  146.412  85.5873      9    100.0    128.0    168.0    700 \u001b[90m \u001b[0m ⋯\n",
       "\u001b[36m                                                               5 columns omitted\u001b[0m"
      ]
     },
     "execution_count": 19,
     "metadata": {},
     "output_type": "execute_result"
    }
   ],
   "source": [
    "describe(train, :all, cols=:LoanAmount)"
   ]
  },
  {
   "cell_type": "markdown",
   "id": "ccd8df41",
   "metadata": {},
   "source": [
    "Plotting\n",
    "\n",
    "Plotting can be done with packages {Plots} and {StatPlots}\n",
    "\n",
    "{Plots}: It is a high-level plotting package that interfaces other plotting packages called ‘back-ends‘. They behave like the graphics engines that generate the graphics. It has a simple and consistent interface.\n",
    "\n",
    "{StatPlots}: It is a supporting package used with {Plots} package consisting of statistical recipes for various concepts and types."
   ]
  },
  {
   "cell_type": "code",
   "execution_count": 17,
   "id": "938deae4",
   "metadata": {
    "scrolled": true
   },
   "outputs": [
    {
     "data": {
      "text/plain": [
       "DataFrame"
      ]
     },
     "execution_count": 17,
     "metadata": {},
     "output_type": "execute_result"
    }
   ],
   "source": [
    "typeof(train)"
   ]
  },
  {
   "cell_type": "code",
   "execution_count": 22,
   "id": "1f6d8a41",
   "metadata": {},
   "outputs": [
    {
     "data": {
      "text/plain": [
       "\"/Users/jameselsner/Desktop/ClassNotes/QG-2022/Jupyter_Notebooks\""
      ]
     },
     "execution_count": 22,
     "metadata": {},
     "output_type": "execute_result"
    }
   ],
   "source": [
    "pwd()"
   ]
  },
  {
   "cell_type": "code",
   "execution_count": 23,
   "id": "86177367",
   "metadata": {},
   "outputs": [
    {
     "data": {
      "text/html": [
       "<div class=\"data-frame\"><p>150 rows × 5 columns</p><table class=\"data-frame\"><thead><tr><th></th><th>sepal_length</th><th>sepal_width</th><th>petal_length</th><th>petal_width</th><th>species</th></tr><tr><th></th><th title=\"Float64\">Float64</th><th title=\"Float64\">Float64</th><th title=\"Float64\">Float64</th><th title=\"Float64\">Float64</th><th title=\"String15\">String15</th></tr></thead><tbody><tr><th>1</th><td>5.1</td><td>3.5</td><td>1.4</td><td>0.2</td><td>setosa</td></tr><tr><th>2</th><td>4.9</td><td>3.0</td><td>1.4</td><td>0.2</td><td>setosa</td></tr><tr><th>3</th><td>4.7</td><td>3.2</td><td>1.3</td><td>0.2</td><td>setosa</td></tr><tr><th>4</th><td>4.6</td><td>3.1</td><td>1.5</td><td>0.2</td><td>setosa</td></tr><tr><th>5</th><td>5.0</td><td>3.6</td><td>1.4</td><td>0.2</td><td>setosa</td></tr><tr><th>6</th><td>5.4</td><td>3.9</td><td>1.7</td><td>0.4</td><td>setosa</td></tr><tr><th>7</th><td>4.6</td><td>3.4</td><td>1.4</td><td>0.3</td><td>setosa</td></tr><tr><th>8</th><td>5.0</td><td>3.4</td><td>1.5</td><td>0.2</td><td>setosa</td></tr><tr><th>9</th><td>4.4</td><td>2.9</td><td>1.4</td><td>0.2</td><td>setosa</td></tr><tr><th>10</th><td>4.9</td><td>3.1</td><td>1.5</td><td>0.1</td><td>setosa</td></tr><tr><th>11</th><td>5.4</td><td>3.7</td><td>1.5</td><td>0.2</td><td>setosa</td></tr><tr><th>12</th><td>4.8</td><td>3.4</td><td>1.6</td><td>0.2</td><td>setosa</td></tr><tr><th>13</th><td>4.8</td><td>3.0</td><td>1.4</td><td>0.1</td><td>setosa</td></tr><tr><th>14</th><td>4.3</td><td>3.0</td><td>1.1</td><td>0.1</td><td>setosa</td></tr><tr><th>15</th><td>5.8</td><td>4.0</td><td>1.2</td><td>0.2</td><td>setosa</td></tr><tr><th>16</th><td>5.7</td><td>4.4</td><td>1.5</td><td>0.4</td><td>setosa</td></tr><tr><th>17</th><td>5.4</td><td>3.9</td><td>1.3</td><td>0.4</td><td>setosa</td></tr><tr><th>18</th><td>5.1</td><td>3.5</td><td>1.4</td><td>0.3</td><td>setosa</td></tr><tr><th>19</th><td>5.7</td><td>3.8</td><td>1.7</td><td>0.3</td><td>setosa</td></tr><tr><th>20</th><td>5.1</td><td>3.8</td><td>1.5</td><td>0.3</td><td>setosa</td></tr><tr><th>21</th><td>5.4</td><td>3.4</td><td>1.7</td><td>0.2</td><td>setosa</td></tr><tr><th>22</th><td>5.1</td><td>3.7</td><td>1.5</td><td>0.4</td><td>setosa</td></tr><tr><th>23</th><td>4.6</td><td>3.6</td><td>1.0</td><td>0.2</td><td>setosa</td></tr><tr><th>24</th><td>5.1</td><td>3.3</td><td>1.7</td><td>0.5</td><td>setosa</td></tr><tr><th>25</th><td>4.8</td><td>3.4</td><td>1.9</td><td>0.2</td><td>setosa</td></tr><tr><th>26</th><td>5.0</td><td>3.0</td><td>1.6</td><td>0.2</td><td>setosa</td></tr><tr><th>27</th><td>5.0</td><td>3.4</td><td>1.6</td><td>0.4</td><td>setosa</td></tr><tr><th>28</th><td>5.2</td><td>3.5</td><td>1.5</td><td>0.2</td><td>setosa</td></tr><tr><th>29</th><td>5.2</td><td>3.4</td><td>1.4</td><td>0.2</td><td>setosa</td></tr><tr><th>30</th><td>4.7</td><td>3.2</td><td>1.6</td><td>0.2</td><td>setosa</td></tr><tr><th>&vellip;</th><td>&vellip;</td><td>&vellip;</td><td>&vellip;</td><td>&vellip;</td><td>&vellip;</td></tr></tbody></table></div>"
      ],
      "text/latex": [
       "\\begin{tabular}{r|ccccc}\n",
       "\t& sepal\\_length & sepal\\_width & petal\\_length & petal\\_width & species\\\\\n",
       "\t\\hline\n",
       "\t& Float64 & Float64 & Float64 & Float64 & String15\\\\\n",
       "\t\\hline\n",
       "\t1 & 5.1 & 3.5 & 1.4 & 0.2 & setosa \\\\\n",
       "\t2 & 4.9 & 3.0 & 1.4 & 0.2 & setosa \\\\\n",
       "\t3 & 4.7 & 3.2 & 1.3 & 0.2 & setosa \\\\\n",
       "\t4 & 4.6 & 3.1 & 1.5 & 0.2 & setosa \\\\\n",
       "\t5 & 5.0 & 3.6 & 1.4 & 0.2 & setosa \\\\\n",
       "\t6 & 5.4 & 3.9 & 1.7 & 0.4 & setosa \\\\\n",
       "\t7 & 4.6 & 3.4 & 1.4 & 0.3 & setosa \\\\\n",
       "\t8 & 5.0 & 3.4 & 1.5 & 0.2 & setosa \\\\\n",
       "\t9 & 4.4 & 2.9 & 1.4 & 0.2 & setosa \\\\\n",
       "\t10 & 4.9 & 3.1 & 1.5 & 0.1 & setosa \\\\\n",
       "\t11 & 5.4 & 3.7 & 1.5 & 0.2 & setosa \\\\\n",
       "\t12 & 4.8 & 3.4 & 1.6 & 0.2 & setosa \\\\\n",
       "\t13 & 4.8 & 3.0 & 1.4 & 0.1 & setosa \\\\\n",
       "\t14 & 4.3 & 3.0 & 1.1 & 0.1 & setosa \\\\\n",
       "\t15 & 5.8 & 4.0 & 1.2 & 0.2 & setosa \\\\\n",
       "\t16 & 5.7 & 4.4 & 1.5 & 0.4 & setosa \\\\\n",
       "\t17 & 5.4 & 3.9 & 1.3 & 0.4 & setosa \\\\\n",
       "\t18 & 5.1 & 3.5 & 1.4 & 0.3 & setosa \\\\\n",
       "\t19 & 5.7 & 3.8 & 1.7 & 0.3 & setosa \\\\\n",
       "\t20 & 5.1 & 3.8 & 1.5 & 0.3 & setosa \\\\\n",
       "\t21 & 5.4 & 3.4 & 1.7 & 0.2 & setosa \\\\\n",
       "\t22 & 5.1 & 3.7 & 1.5 & 0.4 & setosa \\\\\n",
       "\t23 & 4.6 & 3.6 & 1.0 & 0.2 & setosa \\\\\n",
       "\t24 & 5.1 & 3.3 & 1.7 & 0.5 & setosa \\\\\n",
       "\t25 & 4.8 & 3.4 & 1.9 & 0.2 & setosa \\\\\n",
       "\t26 & 5.0 & 3.0 & 1.6 & 0.2 & setosa \\\\\n",
       "\t27 & 5.0 & 3.4 & 1.6 & 0.4 & setosa \\\\\n",
       "\t28 & 5.2 & 3.5 & 1.5 & 0.2 & setosa \\\\\n",
       "\t29 & 5.2 & 3.4 & 1.4 & 0.2 & setosa \\\\\n",
       "\t30 & 4.7 & 3.2 & 1.6 & 0.2 & setosa \\\\\n",
       "\t$\\dots$ & $\\dots$ & $\\dots$ & $\\dots$ & $\\dots$ & $\\dots$ \\\\\n",
       "\\end{tabular}\n"
      ],
      "text/plain": [
       "\u001b[1m150×5 DataFrame\u001b[0m\n",
       "\u001b[1m Row \u001b[0m│\u001b[1m sepal_length \u001b[0m\u001b[1m sepal_width \u001b[0m\u001b[1m petal_length \u001b[0m\u001b[1m petal_width \u001b[0m\u001b[1m species   \u001b[0m\n",
       "\u001b[1m     \u001b[0m│\u001b[90m Float64      \u001b[0m\u001b[90m Float64     \u001b[0m\u001b[90m Float64      \u001b[0m\u001b[90m Float64     \u001b[0m\u001b[90m String15  \u001b[0m\n",
       "─────┼─────────────────────────────────────────────────────────────────\n",
       "   1 │          5.1          3.5           1.4          0.2  setosa\n",
       "   2 │          4.9          3.0           1.4          0.2  setosa\n",
       "   3 │          4.7          3.2           1.3          0.2  setosa\n",
       "   4 │          4.6          3.1           1.5          0.2  setosa\n",
       "   5 │          5.0          3.6           1.4          0.2  setosa\n",
       "   6 │          5.4          3.9           1.7          0.4  setosa\n",
       "   7 │          4.6          3.4           1.4          0.3  setosa\n",
       "   8 │          5.0          3.4           1.5          0.2  setosa\n",
       "   9 │          4.4          2.9           1.4          0.2  setosa\n",
       "  10 │          4.9          3.1           1.5          0.1  setosa\n",
       "  11 │          5.4          3.7           1.5          0.2  setosa\n",
       "  ⋮  │      ⋮             ⋮            ⋮             ⋮           ⋮\n",
       " 141 │          6.7          3.1           5.6          2.4  virginica\n",
       " 142 │          6.9          3.1           5.1          2.3  virginica\n",
       " 143 │          5.8          2.7           5.1          1.9  virginica\n",
       " 144 │          6.8          3.2           5.9          2.3  virginica\n",
       " 145 │          6.7          3.3           5.7          2.5  virginica\n",
       " 146 │          6.7          3.0           5.2          2.3  virginica\n",
       " 147 │          6.3          2.5           5.0          1.9  virginica\n",
       " 148 │          6.5          3.0           5.2          2.0  virginica\n",
       " 149 │          6.2          3.4           5.4          2.3  virginica\n",
       " 150 │          5.9          3.0           5.1          1.8  virginica\n",
       "\u001b[36m                                                       129 rows omitted\u001b[0m"
      ]
     },
     "execution_count": 23,
     "metadata": {},
     "output_type": "execute_result"
    }
   ],
   "source": [
    "Iris = CSV.read(\"data/iris.csv\", DataFrame)"
   ]
  },
  {
   "cell_type": "code",
   "execution_count": 24,
   "id": "72aec912",
   "metadata": {},
   "outputs": [],
   "source": [
    "using Plots"
   ]
  },
  {
   "cell_type": "code",
   "execution_count": 30,
   "id": "601501d4",
   "metadata": {},
   "outputs": [
    {
     "data": {
      "text/plain": [
       "DataFrame"
      ]
     },
     "execution_count": 30,
     "metadata": {},
     "output_type": "execute_result"
    }
   ],
   "source": [
    "typeof(Iris)"
   ]
  },
  {
   "cell_type": "code",
   "execution_count": 31,
   "id": "c9dac0e5",
   "metadata": {},
   "outputs": [
    {
     "data": {
      "text/plain": [
       "150-element Vector{Float64}:\n",
       " 5.1\n",
       " 4.9\n",
       " 4.7\n",
       " 4.6\n",
       " 5.0\n",
       " 5.4\n",
       " 4.6\n",
       " 5.0\n",
       " 4.4\n",
       " 4.9\n",
       " 5.4\n",
       " 4.8\n",
       " 4.8\n",
       " ⋮\n",
       " 6.0\n",
       " 6.9\n",
       " 6.7\n",
       " 6.9\n",
       " 5.8\n",
       " 6.8\n",
       " 6.7\n",
       " 6.7\n",
       " 6.3\n",
       " 6.5\n",
       " 6.2\n",
       " 5.9"
      ]
     },
     "execution_count": 31,
     "metadata": {},
     "output_type": "execute_result"
    }
   ],
   "source": [
    "Iris.sepal_length"
   ]
  },
  {
   "cell_type": "code",
   "execution_count": 32,
   "id": "7b78fe77",
   "metadata": {},
   "outputs": [
    {
     "data": {
      "image/svg+xml": [
       "<?xml version=\"1.0\" encoding=\"utf-8\"?>\n",
       "<svg xmlns=\"http://www.w3.org/2000/svg\" xmlns:xlink=\"http://www.w3.org/1999/xlink\" width=\"600\" height=\"400\" viewBox=\"0 0 2400 1600\">\n",
       "<defs>\n",
       "  <clipPath id=\"clip530\">\n",
       "    <rect x=\"0\" y=\"0\" width=\"2400\" height=\"1600\"/>\n",
       "  </clipPath>\n",
       "</defs>\n",
       "<path clip-path=\"url(#clip530)\" d=\"\n",
       "M0 1600 L2400 1600 L2400 0 L0 0  Z\n",
       "  \" fill=\"#ffffff\" fill-rule=\"evenodd\" fill-opacity=\"1\"/>\n",
       "<defs>\n",
       "  <clipPath id=\"clip531\">\n",
       "    <rect x=\"480\" y=\"0\" width=\"1681\" height=\"1600\"/>\n",
       "  </clipPath>\n",
       "</defs>\n",
       "<path clip-path=\"url(#clip530)\" d=\"\n",
       "M184.191 1423.18 L2352.76 1423.18 L2352.76 47.2441 L184.191 47.2441  Z\n",
       "  \" fill=\"#ffffff\" fill-rule=\"evenodd\" fill-opacity=\"1\"/>\n",
       "<defs>\n",
       "  <clipPath id=\"clip532\">\n",
       "    <rect x=\"184\" y=\"47\" width=\"2170\" height=\"1377\"/>\n",
       "  </clipPath>\n",
       "</defs>\n",
       "<polyline clip-path=\"url(#clip532)\" style=\"stroke:#000000; stroke-linecap:butt; stroke-linejoin:round; stroke-width:2; stroke-opacity:0.1; fill:none\" points=\"\n",
       "  668.604,1423.18 668.604,47.2441 \n",
       "  \"/>\n",
       "<polyline clip-path=\"url(#clip532)\" style=\"stroke:#000000; stroke-linecap:butt; stroke-linejoin:round; stroke-width:2; stroke-opacity:0.1; fill:none\" points=\"\n",
       "  1190.23,1423.18 1190.23,47.2441 \n",
       "  \"/>\n",
       "<polyline clip-path=\"url(#clip532)\" style=\"stroke:#000000; stroke-linecap:butt; stroke-linejoin:round; stroke-width:2; stroke-opacity:0.1; fill:none\" points=\"\n",
       "  1711.86,1423.18 1711.86,47.2441 \n",
       "  \"/>\n",
       "<polyline clip-path=\"url(#clip532)\" style=\"stroke:#000000; stroke-linecap:butt; stroke-linejoin:round; stroke-width:2; stroke-opacity:0.1; fill:none\" points=\"\n",
       "  2233.48,1423.18 2233.48,47.2441 \n",
       "  \"/>\n",
       "<polyline clip-path=\"url(#clip530)\" style=\"stroke:#000000; stroke-linecap:butt; stroke-linejoin:round; stroke-width:4; stroke-opacity:1; fill:none\" points=\"\n",
       "  184.191,1423.18 2352.76,1423.18 \n",
       "  \"/>\n",
       "<polyline clip-path=\"url(#clip530)\" style=\"stroke:#000000; stroke-linecap:butt; stroke-linejoin:round; stroke-width:4; stroke-opacity:1; fill:none\" points=\"\n",
       "  668.604,1423.18 668.604,1404.28 \n",
       "  \"/>\n",
       "<polyline clip-path=\"url(#clip530)\" style=\"stroke:#000000; stroke-linecap:butt; stroke-linejoin:round; stroke-width:4; stroke-opacity:1; fill:none\" points=\"\n",
       "  1190.23,1423.18 1190.23,1404.28 \n",
       "  \"/>\n",
       "<polyline clip-path=\"url(#clip530)\" style=\"stroke:#000000; stroke-linecap:butt; stroke-linejoin:round; stroke-width:4; stroke-opacity:1; fill:none\" points=\"\n",
       "  1711.86,1423.18 1711.86,1404.28 \n",
       "  \"/>\n",
       "<polyline clip-path=\"url(#clip530)\" style=\"stroke:#000000; stroke-linecap:butt; stroke-linejoin:round; stroke-width:4; stroke-opacity:1; fill:none\" points=\"\n",
       "  2233.48,1423.18 2233.48,1404.28 \n",
       "  \"/>\n",
       "<path clip-path=\"url(#clip530)\" d=\"M658.881 1451.02 L677.238 1451.02 L677.238 1454.96 L663.164 1454.96 L663.164 1463.43 Q664.182 1463.08 665.201 1462.92 Q666.219 1462.73 667.238 1462.73 Q673.025 1462.73 676.405 1465.9 Q679.784 1469.08 679.784 1474.49 Q679.784 1480.07 676.312 1483.17 Q672.84 1486.25 666.52 1486.25 Q664.344 1486.25 662.076 1485.88 Q659.831 1485.51 657.423 1484.77 L657.423 1480.07 Q659.506 1481.2 661.729 1481.76 Q663.951 1482.32 666.428 1482.32 Q670.432 1482.32 672.77 1480.21 Q675.108 1478.1 675.108 1474.49 Q675.108 1470.88 672.77 1468.77 Q670.432 1466.67 666.428 1466.67 Q664.553 1466.67 662.678 1467.08 Q660.826 1467.5 658.881 1468.38 L658.881 1451.02 Z\" fill=\"#000000\" fill-rule=\"evenodd\" fill-opacity=\"1\" /><path clip-path=\"url(#clip530)\" d=\"M1190.63 1466.44 Q1187.49 1466.44 1185.63 1468.59 Q1183.81 1470.74 1183.81 1474.49 Q1183.81 1478.22 1185.63 1480.39 Q1187.49 1482.55 1190.63 1482.55 Q1193.78 1482.55 1195.61 1480.39 Q1197.46 1478.22 1197.46 1474.49 Q1197.46 1470.74 1195.61 1468.59 Q1193.78 1466.44 1190.63 1466.44 M1199.92 1451.78 L1199.92 1456.04 Q1198.16 1455.21 1196.35 1454.77 Q1194.57 1454.33 1192.81 1454.33 Q1188.18 1454.33 1185.73 1457.45 Q1183.3 1460.58 1182.95 1466.9 Q1184.32 1464.89 1186.38 1463.82 Q1188.44 1462.73 1190.91 1462.73 Q1196.12 1462.73 1199.13 1465.9 Q1202.16 1469.05 1202.16 1474.49 Q1202.16 1479.82 1199.01 1483.03 Q1195.87 1486.25 1190.63 1486.25 Q1184.64 1486.25 1181.47 1481.67 Q1178.3 1477.06 1178.3 1468.33 Q1178.3 1460.14 1182.19 1455.28 Q1186.07 1450.39 1192.63 1450.39 Q1194.38 1450.39 1196.17 1450.74 Q1197.97 1451.09 1199.92 1451.78 Z\" fill=\"#000000\" fill-rule=\"evenodd\" fill-opacity=\"1\" /><path clip-path=\"url(#clip530)\" d=\"M1700.74 1451.02 L1722.97 1451.02 L1722.97 1453.01 L1710.42 1485.58 L1705.54 1485.58 L1717.34 1454.96 L1700.74 1454.96 L1700.74 1451.02 Z\" fill=\"#000000\" fill-rule=\"evenodd\" fill-opacity=\"1\" /><path clip-path=\"url(#clip530)\" d=\"M2233.48 1469.17 Q2230.15 1469.17 2228.23 1470.95 Q2226.33 1472.73 2226.33 1475.86 Q2226.33 1478.98 2228.23 1480.77 Q2230.15 1482.55 2233.48 1482.55 Q2236.81 1482.55 2238.74 1480.77 Q2240.66 1478.96 2240.66 1475.86 Q2240.66 1472.73 2238.74 1470.95 Q2236.84 1469.17 2233.48 1469.17 M2228.81 1467.18 Q2225.8 1466.44 2224.11 1464.38 Q2222.44 1462.32 2222.44 1459.35 Q2222.44 1455.21 2225.38 1452.8 Q2228.34 1450.39 2233.48 1450.39 Q2238.64 1450.39 2241.58 1452.8 Q2244.52 1455.21 2244.52 1459.35 Q2244.52 1462.32 2242.83 1464.38 Q2241.17 1466.44 2238.18 1467.18 Q2241.56 1467.96 2243.43 1470.26 Q2245.33 1472.55 2245.33 1475.86 Q2245.33 1480.88 2242.25 1483.57 Q2239.2 1486.25 2233.48 1486.25 Q2227.76 1486.25 2224.68 1483.57 Q2221.63 1480.88 2221.63 1475.86 Q2221.63 1472.55 2223.53 1470.26 Q2225.43 1467.96 2228.81 1467.18 M2227.09 1459.79 Q2227.09 1462.48 2228.76 1463.98 Q2230.45 1465.49 2233.48 1465.49 Q2236.49 1465.49 2238.18 1463.98 Q2239.89 1462.48 2239.89 1459.79 Q2239.89 1457.11 2238.18 1455.6 Q2236.49 1454.1 2233.48 1454.1 Q2230.45 1454.1 2228.76 1455.6 Q2227.09 1457.11 2227.09 1459.79 Z\" fill=\"#000000\" fill-rule=\"evenodd\" fill-opacity=\"1\" /><path clip-path=\"url(#clip530)\" d=\"M1090.74 1522.08 L1090.74 1528.35 Q1087.08 1526.6 1083.84 1525.74 Q1080.59 1524.88 1077.57 1524.88 Q1072.31 1524.88 1069.45 1526.92 Q1066.62 1528.96 1066.62 1532.71 Q1066.62 1535.87 1068.49 1537.49 Q1070.4 1539.08 1075.69 1540.07 L1079.57 1540.86 Q1086.76 1542.23 1090.17 1545.7 Q1093.61 1549.14 1093.61 1554.93 Q1093.61 1561.84 1088.96 1565.4 Q1084.35 1568.97 1075.4 1568.97 Q1072.03 1568.97 1068.21 1568.2 Q1064.42 1567.44 1060.35 1565.94 L1060.35 1559.32 Q1064.26 1561.52 1068.02 1562.63 Q1071.77 1563.75 1075.4 1563.75 Q1080.91 1563.75 1083.9 1561.58 Q1086.89 1559.42 1086.89 1555.41 Q1086.89 1551.91 1084.73 1549.93 Q1082.59 1547.96 1077.69 1546.97 L1073.78 1546.21 Q1066.58 1544.78 1063.37 1541.72 Q1060.16 1538.67 1060.16 1533.22 Q1060.16 1526.92 1064.58 1523.29 Q1069.04 1519.66 1076.83 1519.66 Q1080.18 1519.66 1083.65 1520.27 Q1087.11 1520.87 1090.74 1522.08 Z\" fill=\"#000000\" fill-rule=\"evenodd\" fill-opacity=\"1\" /><path clip-path=\"url(#clip530)\" d=\"M1133.87 1548.76 L1133.87 1551.62 L1106.94 1551.62 Q1107.33 1557.67 1110.57 1560.85 Q1113.85 1564 1119.67 1564 Q1123.05 1564 1126.2 1563.17 Q1129.38 1562.35 1132.5 1560.69 L1132.5 1566.23 Q1129.35 1567.57 1126.04 1568.27 Q1122.73 1568.97 1119.32 1568.97 Q1110.79 1568.97 1105.8 1564 Q1100.83 1559.04 1100.83 1550.57 Q1100.83 1541.82 1105.54 1536.69 Q1110.29 1531.54 1118.31 1531.54 Q1125.5 1531.54 1129.67 1536.18 Q1133.87 1540.8 1133.87 1548.76 M1128.01 1547.04 Q1127.95 1542.23 1125.31 1539.37 Q1122.7 1536.5 1118.37 1536.5 Q1113.47 1536.5 1110.51 1539.27 Q1107.58 1542.04 1107.13 1547.07 L1128.01 1547.04 Z\" fill=\"#000000\" fill-rule=\"evenodd\" fill-opacity=\"1\" /><path clip-path=\"url(#clip530)\" d=\"M1149.15 1562.7 L1149.15 1581.6 L1143.26 1581.6 L1143.26 1532.4 L1149.15 1532.4 L1149.15 1537.81 Q1150.99 1534.62 1153.8 1533.1 Q1156.63 1531.54 1160.54 1531.54 Q1167.04 1531.54 1171.08 1536.69 Q1175.15 1541.85 1175.15 1550.25 Q1175.15 1558.65 1171.08 1563.81 Q1167.04 1568.97 1160.54 1568.97 Q1156.63 1568.97 1153.8 1567.44 Q1150.99 1565.88 1149.15 1562.7 M1169.07 1550.25 Q1169.07 1543.79 1166.4 1540.13 Q1163.76 1536.44 1159.11 1536.44 Q1154.46 1536.44 1151.79 1540.13 Q1149.15 1543.79 1149.15 1550.25 Q1149.15 1556.71 1151.79 1560.4 Q1154.46 1564.07 1159.11 1564.07 Q1163.76 1564.07 1166.4 1560.4 Q1169.07 1556.71 1169.07 1550.25 Z\" fill=\"#000000\" fill-rule=\"evenodd\" fill-opacity=\"1\" /><path clip-path=\"url(#clip530)\" d=\"M1201.06 1550.12 Q1193.96 1550.12 1191.23 1551.75 Q1188.49 1553.37 1188.49 1557.29 Q1188.49 1560.4 1190.53 1562.25 Q1192.59 1564.07 1196.13 1564.07 Q1201 1564.07 1203.93 1560.63 Q1206.89 1557.16 1206.89 1551.43 L1206.89 1550.12 L1201.06 1550.12 M1212.74 1547.71 L1212.74 1568.04 L1206.89 1568.04 L1206.89 1562.63 Q1204.88 1565.88 1201.89 1567.44 Q1198.9 1568.97 1194.57 1568.97 Q1189.09 1568.97 1185.85 1565.91 Q1182.63 1562.82 1182.63 1557.67 Q1182.63 1551.65 1186.64 1548.6 Q1190.68 1545.54 1198.67 1545.54 L1206.89 1545.54 L1206.89 1544.97 Q1206.89 1540.93 1204.21 1538.73 Q1201.57 1536.5 1196.76 1536.5 Q1193.71 1536.5 1190.81 1537.23 Q1187.92 1537.97 1185.24 1539.43 L1185.24 1534.02 Q1188.46 1532.78 1191.48 1532.17 Q1194.5 1531.54 1197.37 1531.54 Q1205.1 1531.54 1208.92 1535.55 Q1212.74 1539.56 1212.74 1547.71 Z\" fill=\"#000000\" fill-rule=\"evenodd\" fill-opacity=\"1\" /><path clip-path=\"url(#clip530)\" d=\"M1224.8 1518.52 L1230.66 1518.52 L1230.66 1568.04 L1224.8 1568.04 L1224.8 1518.52 Z\" fill=\"#000000\" fill-rule=\"evenodd\" fill-opacity=\"1\" /><path clip-path=\"url(#clip530)\" d=\"M1263.89 1520.52 L1270.32 1520.52 L1270.32 1562.63 L1293.46 1562.63 L1293.46 1568.04 L1263.89 1568.04 L1263.89 1520.52 Z\" fill=\"#000000\" fill-rule=\"evenodd\" fill-opacity=\"1\" /><path clip-path=\"url(#clip530)\" d=\"M1329.3 1548.76 L1329.3 1551.62 L1302.37 1551.62 Q1302.75 1557.67 1306 1560.85 Q1309.28 1564 1315.1 1564 Q1318.48 1564 1321.63 1563.17 Q1324.81 1562.35 1327.93 1560.69 L1327.93 1566.23 Q1324.78 1567.57 1321.47 1568.27 Q1318.16 1568.97 1314.75 1568.97 Q1306.22 1568.97 1301.22 1564 Q1296.26 1559.04 1296.26 1550.57 Q1296.26 1541.82 1300.97 1536.69 Q1305.71 1531.54 1313.73 1531.54 Q1320.93 1531.54 1325.1 1536.18 Q1329.3 1540.8 1329.3 1548.76 M1323.44 1547.04 Q1323.38 1542.23 1320.74 1539.37 Q1318.13 1536.5 1313.8 1536.5 Q1308.9 1536.5 1305.94 1539.27 Q1303.01 1542.04 1302.56 1547.07 L1323.44 1547.04 Z\" fill=\"#000000\" fill-rule=\"evenodd\" fill-opacity=\"1\" /><path clip-path=\"url(#clip530)\" d=\"M1368.54 1546.53 L1368.54 1568.04 L1362.69 1568.04 L1362.69 1546.72 Q1362.69 1541.66 1360.71 1539.14 Q1358.74 1536.63 1354.79 1536.63 Q1350.05 1536.63 1347.31 1539.65 Q1344.58 1542.68 1344.58 1547.9 L1344.58 1568.04 L1338.69 1568.04 L1338.69 1532.4 L1344.58 1532.4 L1344.58 1537.93 Q1346.68 1534.72 1349.51 1533.13 Q1352.37 1531.54 1356.1 1531.54 Q1362.24 1531.54 1365.39 1535.36 Q1368.54 1539.14 1368.54 1546.53 Z\" fill=\"#000000\" fill-rule=\"evenodd\" fill-opacity=\"1\" /><path clip-path=\"url(#clip530)\" d=\"M1403.68 1549.81 Q1403.68 1543.44 1401.04 1539.94 Q1398.43 1536.44 1393.69 1536.44 Q1388.98 1536.44 1386.33 1539.94 Q1383.72 1543.44 1383.72 1549.81 Q1383.72 1556.14 1386.33 1559.64 Q1388.98 1563.14 1393.69 1563.14 Q1398.43 1563.14 1401.04 1559.64 Q1403.68 1556.14 1403.68 1549.81 M1409.54 1563.62 Q1409.54 1572.72 1405.5 1577.15 Q1401.45 1581.6 1393.11 1581.6 Q1390.03 1581.6 1387.29 1581.13 Q1384.55 1580.68 1381.97 1579.72 L1381.97 1574.03 Q1384.55 1575.43 1387.07 1576.1 Q1389.58 1576.76 1392.19 1576.76 Q1397.95 1576.76 1400.82 1573.74 Q1403.68 1570.75 1403.68 1564.67 L1403.68 1561.77 Q1401.87 1564.92 1399.03 1566.48 Q1396.2 1568.04 1392.25 1568.04 Q1385.7 1568.04 1381.69 1563.05 Q1377.68 1558.05 1377.68 1549.81 Q1377.68 1541.53 1381.69 1536.53 Q1385.7 1531.54 1392.25 1531.54 Q1396.2 1531.54 1399.03 1533.1 Q1401.87 1534.66 1403.68 1537.81 L1403.68 1532.4 L1409.54 1532.4 L1409.54 1563.62 Z\" fill=\"#000000\" fill-rule=\"evenodd\" fill-opacity=\"1\" /><path clip-path=\"url(#clip530)\" d=\"M1427.39 1522.27 L1427.39 1532.4 L1439.46 1532.4 L1439.46 1536.95 L1427.39 1536.95 L1427.39 1556.3 Q1427.39 1560.66 1428.57 1561.9 Q1429.78 1563.14 1433.44 1563.14 L1439.46 1563.14 L1439.46 1568.04 L1433.44 1568.04 Q1426.66 1568.04 1424.08 1565.53 Q1421.5 1562.98 1421.5 1556.3 L1421.5 1536.95 L1417.21 1536.95 L1417.21 1532.4 L1421.5 1532.4 L1421.5 1522.27 L1427.39 1522.27 Z\" fill=\"#000000\" fill-rule=\"evenodd\" fill-opacity=\"1\" /><path clip-path=\"url(#clip530)\" d=\"M1476.79 1546.53 L1476.79 1568.04 L1470.93 1568.04 L1470.93 1546.72 Q1470.93 1541.66 1468.96 1539.14 Q1466.99 1536.63 1463.04 1536.63 Q1458.3 1536.63 1455.56 1539.65 Q1452.82 1542.68 1452.82 1547.9 L1452.82 1568.04 L1446.94 1568.04 L1446.94 1518.52 L1452.82 1518.52 L1452.82 1537.93 Q1454.92 1534.72 1457.76 1533.13 Q1460.62 1531.54 1464.35 1531.54 Q1470.49 1531.54 1473.64 1535.36 Q1476.79 1539.14 1476.79 1546.53 Z\" fill=\"#000000\" fill-rule=\"evenodd\" fill-opacity=\"1\" /><polyline clip-path=\"url(#clip532)\" style=\"stroke:#000000; stroke-linecap:butt; stroke-linejoin:round; stroke-width:2; stroke-opacity:0.1; fill:none\" points=\"\n",
       "  184.191,1384.24 2352.76,1384.24 \n",
       "  \"/>\n",
       "<polyline clip-path=\"url(#clip532)\" style=\"stroke:#000000; stroke-linecap:butt; stroke-linejoin:round; stroke-width:2; stroke-opacity:0.1; fill:none\" points=\"\n",
       "  184.191,1059.73 2352.76,1059.73 \n",
       "  \"/>\n",
       "<polyline clip-path=\"url(#clip532)\" style=\"stroke:#000000; stroke-linecap:butt; stroke-linejoin:round; stroke-width:2; stroke-opacity:0.1; fill:none\" points=\"\n",
       "  184.191,735.212 2352.76,735.212 \n",
       "  \"/>\n",
       "<polyline clip-path=\"url(#clip532)\" style=\"stroke:#000000; stroke-linecap:butt; stroke-linejoin:round; stroke-width:2; stroke-opacity:0.1; fill:none\" points=\"\n",
       "  184.191,410.699 2352.76,410.699 \n",
       "  \"/>\n",
       "<polyline clip-path=\"url(#clip532)\" style=\"stroke:#000000; stroke-linecap:butt; stroke-linejoin:round; stroke-width:2; stroke-opacity:0.1; fill:none\" points=\"\n",
       "  184.191,86.1857 2352.76,86.1857 \n",
       "  \"/>\n",
       "<polyline clip-path=\"url(#clip530)\" style=\"stroke:#000000; stroke-linecap:butt; stroke-linejoin:round; stroke-width:4; stroke-opacity:1; fill:none\" points=\"\n",
       "  184.191,1423.18 184.191,47.2441 \n",
       "  \"/>\n",
       "<polyline clip-path=\"url(#clip530)\" style=\"stroke:#000000; stroke-linecap:butt; stroke-linejoin:round; stroke-width:4; stroke-opacity:1; fill:none\" points=\"\n",
       "  184.191,1384.24 203.088,1384.24 \n",
       "  \"/>\n",
       "<polyline clip-path=\"url(#clip530)\" style=\"stroke:#000000; stroke-linecap:butt; stroke-linejoin:round; stroke-width:4; stroke-opacity:1; fill:none\" points=\"\n",
       "  184.191,1059.73 203.088,1059.73 \n",
       "  \"/>\n",
       "<polyline clip-path=\"url(#clip530)\" style=\"stroke:#000000; stroke-linecap:butt; stroke-linejoin:round; stroke-width:4; stroke-opacity:1; fill:none\" points=\"\n",
       "  184.191,735.212 203.088,735.212 \n",
       "  \"/>\n",
       "<polyline clip-path=\"url(#clip530)\" style=\"stroke:#000000; stroke-linecap:butt; stroke-linejoin:round; stroke-width:4; stroke-opacity:1; fill:none\" points=\"\n",
       "  184.191,410.699 203.088,410.699 \n",
       "  \"/>\n",
       "<polyline clip-path=\"url(#clip530)\" style=\"stroke:#000000; stroke-linecap:butt; stroke-linejoin:round; stroke-width:4; stroke-opacity:1; fill:none\" points=\"\n",
       "  184.191,86.1857 203.088,86.1857 \n",
       "  \"/>\n",
       "<path clip-path=\"url(#clip530)\" d=\"M91.0151 1370.04 Q87.404 1370.04 85.5753 1373.6 Q83.7697 1377.14 83.7697 1384.27 Q83.7697 1391.38 85.5753 1394.94 Q87.404 1398.49 91.0151 1398.49 Q94.6493 1398.49 96.4548 1394.94 Q98.2835 1391.38 98.2835 1384.27 Q98.2835 1377.14 96.4548 1373.6 Q94.6493 1370.04 91.0151 1370.04 M91.0151 1366.33 Q96.8252 1366.33 99.8808 1370.94 Q102.959 1375.52 102.959 1384.27 Q102.959 1393 99.8808 1397.61 Q96.8252 1402.19 91.0151 1402.19 Q85.2049 1402.19 82.1262 1397.61 Q79.0707 1393 79.0707 1384.27 Q79.0707 1375.52 82.1262 1370.94 Q85.2049 1366.33 91.0151 1366.33 Z\" fill=\"#000000\" fill-rule=\"evenodd\" fill-opacity=\"1\" /><path clip-path=\"url(#clip530)\" d=\"M111.177 1395.64 L116.061 1395.64 L116.061 1401.52 L111.177 1401.52 L111.177 1395.64 Z\" fill=\"#000000\" fill-rule=\"evenodd\" fill-opacity=\"1\" /><path clip-path=\"url(#clip530)\" d=\"M136.246 1370.04 Q132.635 1370.04 130.807 1373.6 Q129.001 1377.14 129.001 1384.27 Q129.001 1391.38 130.807 1394.94 Q132.635 1398.49 136.246 1398.49 Q139.881 1398.49 141.686 1394.94 Q143.515 1391.38 143.515 1384.27 Q143.515 1377.14 141.686 1373.6 Q139.881 1370.04 136.246 1370.04 M136.246 1366.33 Q142.056 1366.33 145.112 1370.94 Q148.191 1375.52 148.191 1384.27 Q148.191 1393 145.112 1397.61 Q142.056 1402.19 136.246 1402.19 Q130.436 1402.19 127.357 1397.61 Q124.302 1393 124.302 1384.27 Q124.302 1375.52 127.357 1370.94 Q130.436 1366.33 136.246 1366.33 Z\" fill=\"#000000\" fill-rule=\"evenodd\" fill-opacity=\"1\" /><path clip-path=\"url(#clip530)\" d=\"M86.0382 1073.07 L102.358 1073.07 L102.358 1077.01 L80.4133 1077.01 L80.4133 1073.07 Q83.0753 1070.32 87.6586 1065.69 Q92.2651 1061.03 93.4456 1059.69 Q95.691 1057.17 96.5706 1055.43 Q97.4734 1053.67 97.4734 1051.98 Q97.4734 1049.23 95.5289 1047.49 Q93.6076 1045.76 90.5058 1045.76 Q88.3067 1045.76 85.8531 1046.52 Q83.4225 1047.28 80.6447 1048.83 L80.6447 1044.11 Q83.4688 1042.98 85.9225 1042.4 Q88.3762 1041.82 90.4132 1041.82 Q95.7836 1041.82 98.978 1044.51 Q102.172 1047.19 102.172 1051.68 Q102.172 1053.81 101.362 1055.73 Q100.575 1057.63 98.4687 1060.22 Q97.89 1060.89 94.7882 1064.11 Q91.6864 1067.31 86.0382 1073.07 Z\" fill=\"#000000\" fill-rule=\"evenodd\" fill-opacity=\"1\" /><path clip-path=\"url(#clip530)\" d=\"M112.172 1071.13 L117.057 1071.13 L117.057 1077.01 L112.172 1077.01 L112.172 1071.13 Z\" fill=\"#000000\" fill-rule=\"evenodd\" fill-opacity=\"1\" /><path clip-path=\"url(#clip530)\" d=\"M127.288 1042.45 L145.644 1042.45 L145.644 1046.38 L131.57 1046.38 L131.57 1054.85 Q132.589 1054.51 133.607 1054.34 Q134.626 1054.16 135.644 1054.16 Q141.431 1054.16 144.811 1057.33 Q148.191 1060.5 148.191 1065.92 Q148.191 1071.5 144.718 1074.6 Q141.246 1077.68 134.927 1077.68 Q132.751 1077.68 130.482 1077.31 Q128.237 1076.94 125.83 1076.19 L125.83 1071.5 Q127.913 1072.63 130.135 1073.19 Q132.357 1073.74 134.834 1073.74 Q138.839 1073.74 141.177 1071.63 Q143.515 1069.53 143.515 1065.92 Q143.515 1062.31 141.177 1060.2 Q138.839 1058.09 134.834 1058.09 Q132.959 1058.09 131.084 1058.51 Q129.232 1058.93 127.288 1059.81 L127.288 1042.45 Z\" fill=\"#000000\" fill-rule=\"evenodd\" fill-opacity=\"1\" /><path clip-path=\"url(#clip530)\" d=\"M81.0614 717.932 L99.4178 717.932 L99.4178 721.867 L85.3438 721.867 L85.3438 730.339 Q86.3623 729.992 87.3808 729.83 Q88.3993 729.645 89.4178 729.645 Q95.2049 729.645 98.5845 732.816 Q101.964 735.987 101.964 741.404 Q101.964 746.983 98.4919 750.085 Q95.0197 753.163 88.7003 753.163 Q86.5243 753.163 84.2558 752.793 Q82.0105 752.423 79.6031 751.682 L79.6031 746.983 Q81.6864 748.117 83.9086 748.673 Q86.1308 749.228 88.6077 749.228 Q92.6123 749.228 94.9502 747.122 Q97.2882 745.015 97.2882 741.404 Q97.2882 737.793 94.9502 735.687 Q92.6123 733.58 88.6077 733.58 Q86.7327 733.58 84.8577 733.997 Q83.0058 734.413 81.0614 735.293 L81.0614 717.932 Z\" fill=\"#000000\" fill-rule=\"evenodd\" fill-opacity=\"1\" /><path clip-path=\"url(#clip530)\" d=\"M111.177 746.612 L116.061 746.612 L116.061 752.492 L111.177 752.492 L111.177 746.612 Z\" fill=\"#000000\" fill-rule=\"evenodd\" fill-opacity=\"1\" /><path clip-path=\"url(#clip530)\" d=\"M136.246 721.011 Q132.635 721.011 130.807 724.575 Q129.001 728.117 129.001 735.247 Q129.001 742.353 130.807 745.918 Q132.635 749.46 136.246 749.46 Q139.881 749.46 141.686 745.918 Q143.515 742.353 143.515 735.247 Q143.515 728.117 141.686 724.575 Q139.881 721.011 136.246 721.011 M136.246 717.307 Q142.056 717.307 145.112 721.913 Q148.191 726.497 148.191 735.247 Q148.191 743.973 145.112 748.58 Q142.056 753.163 136.246 753.163 Q130.436 753.163 127.357 748.58 Q124.302 743.973 124.302 735.247 Q124.302 726.497 127.357 721.913 Q130.436 717.307 136.246 717.307 Z\" fill=\"#000000\" fill-rule=\"evenodd\" fill-opacity=\"1\" /><path clip-path=\"url(#clip530)\" d=\"M80.8299 393.419 L103.052 393.419 L103.052 395.41 L90.5058 427.979 L85.6216 427.979 L97.4271 397.354 L80.8299 397.354 L80.8299 393.419 Z\" fill=\"#000000\" fill-rule=\"evenodd\" fill-opacity=\"1\" /><path clip-path=\"url(#clip530)\" d=\"M112.172 422.099 L117.057 422.099 L117.057 427.979 L112.172 427.979 L112.172 422.099 Z\" fill=\"#000000\" fill-rule=\"evenodd\" fill-opacity=\"1\" /><path clip-path=\"url(#clip530)\" d=\"M127.288 393.419 L145.644 393.419 L145.644 397.354 L131.57 397.354 L131.57 405.826 Q132.589 405.479 133.607 405.317 Q134.626 405.132 135.644 405.132 Q141.431 405.132 144.811 408.303 Q148.191 411.474 148.191 416.891 Q148.191 422.47 144.718 425.571 Q141.246 428.65 134.927 428.65 Q132.751 428.65 130.482 428.28 Q128.237 427.909 125.83 427.169 L125.83 422.47 Q127.913 423.604 130.135 424.159 Q132.357 424.715 134.834 424.715 Q138.839 424.715 141.177 422.608 Q143.515 420.502 143.515 416.891 Q143.515 413.28 141.177 411.173 Q138.839 409.067 134.834 409.067 Q132.959 409.067 131.084 409.484 Q129.232 409.9 127.288 410.78 L127.288 393.419 Z\" fill=\"#000000\" fill-rule=\"evenodd\" fill-opacity=\"1\" /><path clip-path=\"url(#clip530)\" d=\"M51.6634 99.5305 L59.3023 99.5305 L59.3023 73.1649 L50.9921 74.8316 L50.9921 70.5723 L59.256 68.9057 L63.9319 68.9057 L63.9319 99.5305 L71.5707 99.5305 L71.5707 103.466 L51.6634 103.466 L51.6634 99.5305 Z\" fill=\"#000000\" fill-rule=\"evenodd\" fill-opacity=\"1\" /><path clip-path=\"url(#clip530)\" d=\"M91.0151 71.9844 Q87.404 71.9844 85.5753 75.5492 Q83.7697 79.0908 83.7697 86.2204 Q83.7697 93.3268 85.5753 96.8916 Q87.404 100.433 91.0151 100.433 Q94.6493 100.433 96.4548 96.8916 Q98.2835 93.3268 98.2835 86.2204 Q98.2835 79.0908 96.4548 75.5492 Q94.6493 71.9844 91.0151 71.9844 M91.0151 68.2807 Q96.8252 68.2807 99.8808 72.8871 Q102.959 77.4704 102.959 86.2204 Q102.959 94.9472 99.8808 99.5537 Q96.8252 104.137 91.0151 104.137 Q85.2049 104.137 82.1262 99.5537 Q79.0707 94.9472 79.0707 86.2204 Q79.0707 77.4704 82.1262 72.8871 Q85.2049 68.2807 91.0151 68.2807 Z\" fill=\"#000000\" fill-rule=\"evenodd\" fill-opacity=\"1\" /><path clip-path=\"url(#clip530)\" d=\"M111.177 97.5861 L116.061 97.5861 L116.061 103.466 L111.177 103.466 L111.177 97.5861 Z\" fill=\"#000000\" fill-rule=\"evenodd\" fill-opacity=\"1\" /><path clip-path=\"url(#clip530)\" d=\"M136.246 71.9844 Q132.635 71.9844 130.807 75.5492 Q129.001 79.0908 129.001 86.2204 Q129.001 93.3268 130.807 96.8916 Q132.635 100.433 136.246 100.433 Q139.881 100.433 141.686 96.8916 Q143.515 93.3268 143.515 86.2204 Q143.515 79.0908 141.686 75.5492 Q139.881 71.9844 136.246 71.9844 M136.246 68.2807 Q142.056 68.2807 145.112 72.8871 Q148.191 77.4704 148.191 86.2204 Q148.191 94.9472 145.112 99.5537 Q142.056 104.137 136.246 104.137 Q130.436 104.137 127.357 99.5537 Q124.302 94.9472 124.302 86.2204 Q124.302 77.4704 127.357 72.8871 Q130.436 68.2807 136.246 68.2807 Z\" fill=\"#000000\" fill-rule=\"evenodd\" fill-opacity=\"1\" /><path clip-path=\"url(#clip532)\" d=\"\n",
       "M303.466 1254.43 L303.466 1384.24 L355.628 1384.24 L355.628 1254.43 L303.466 1254.43 L303.466 1254.43  Z\n",
       "  \" fill=\"#009af9\" fill-rule=\"evenodd\" fill-opacity=\"1\"/>\n",
       "<polyline clip-path=\"url(#clip532)\" style=\"stroke:#000000; stroke-linecap:butt; stroke-linejoin:round; stroke-width:4; stroke-opacity:1; fill:none\" points=\"\n",
       "  303.466,1254.43 303.466,1384.24 355.628,1384.24 355.628,1254.43 303.466,1254.43 \n",
       "  \"/>\n",
       "<path clip-path=\"url(#clip532)\" d=\"\n",
       "M355.628 994.822 L355.628 1384.24 L407.791 1384.24 L407.791 994.822 L355.628 994.822 L355.628 994.822  Z\n",
       "  \" fill=\"#009af9\" fill-rule=\"evenodd\" fill-opacity=\"1\"/>\n",
       "<polyline clip-path=\"url(#clip532)\" style=\"stroke:#000000; stroke-linecap:butt; stroke-linejoin:round; stroke-width:4; stroke-opacity:1; fill:none\" points=\"\n",
       "  355.628,994.822 355.628,1384.24 407.791,1384.24 407.791,994.822 355.628,994.822 \n",
       "  \"/>\n",
       "<path clip-path=\"url(#clip532)\" d=\"\n",
       "M407.791 1254.43 L407.791 1384.24 L459.953 1384.24 L459.953 1254.43 L407.791 1254.43 L407.791 1254.43  Z\n",
       "  \" fill=\"#009af9\" fill-rule=\"evenodd\" fill-opacity=\"1\"/>\n",
       "<polyline clip-path=\"url(#clip532)\" style=\"stroke:#000000; stroke-linecap:butt; stroke-linejoin:round; stroke-width:4; stroke-opacity:1; fill:none\" points=\"\n",
       "  407.791,1254.43 407.791,1384.24 459.953,1384.24 459.953,1254.43 407.791,1254.43 \n",
       "  \"/>\n",
       "<path clip-path=\"url(#clip532)\" d=\"\n",
       "M459.953 865.017 L459.953 1384.24 L512.116 1384.24 L512.116 865.017 L459.953 865.017 L459.953 865.017  Z\n",
       "  \" fill=\"#009af9\" fill-rule=\"evenodd\" fill-opacity=\"1\"/>\n",
       "<polyline clip-path=\"url(#clip532)\" style=\"stroke:#000000; stroke-linecap:butt; stroke-linejoin:round; stroke-width:4; stroke-opacity:1; fill:none\" points=\"\n",
       "  459.953,865.017 459.953,1384.24 512.116,1384.24 512.116,865.017 459.953,865.017 \n",
       "  \"/>\n",
       "<path clip-path=\"url(#clip532)\" d=\"\n",
       "M512.116 1124.63 L512.116 1384.24 L564.279 1384.24 L564.279 1124.63 L512.116 1124.63 L512.116 1124.63  Z\n",
       "  \" fill=\"#009af9\" fill-rule=\"evenodd\" fill-opacity=\"1\"/>\n",
       "<polyline clip-path=\"url(#clip532)\" style=\"stroke:#000000; stroke-linecap:butt; stroke-linejoin:round; stroke-width:4; stroke-opacity:1; fill:none\" points=\"\n",
       "  512.116,1124.63 512.116,1384.24 564.279,1384.24 564.279,1124.63 512.116,1124.63 \n",
       "  \"/>\n",
       "<path clip-path=\"url(#clip532)\" d=\"\n",
       "M564.279 735.212 L564.279 1384.24 L616.441 1384.24 L616.441 735.212 L564.279 735.212 L564.279 735.212  Z\n",
       "  \" fill=\"#009af9\" fill-rule=\"evenodd\" fill-opacity=\"1\"/>\n",
       "<polyline clip-path=\"url(#clip532)\" style=\"stroke:#000000; stroke-linecap:butt; stroke-linejoin:round; stroke-width:4; stroke-opacity:1; fill:none\" points=\"\n",
       "  564.279,735.212 564.279,1384.24 616.441,1384.24 616.441,735.212 564.279,735.212 \n",
       "  \"/>\n",
       "<path clip-path=\"url(#clip532)\" d=\"\n",
       "M616.441 605.407 L616.441 1384.24 L668.604 1384.24 L668.604 605.407 L616.441 605.407 L616.441 605.407  Z\n",
       "  \" fill=\"#009af9\" fill-rule=\"evenodd\" fill-opacity=\"1\"/>\n",
       "<polyline clip-path=\"url(#clip532)\" style=\"stroke:#000000; stroke-linecap:butt; stroke-linejoin:round; stroke-width:4; stroke-opacity:1; fill:none\" points=\"\n",
       "  616.441,605.407 616.441,1384.24 668.604,1384.24 668.604,605.407 616.441,605.407 \n",
       "  \"/>\n",
       "<path clip-path=\"url(#clip532)\" d=\"\n",
       "M668.604 86.1857 L668.604 1384.24 L720.766 1384.24 L720.766 86.1857 L668.604 86.1857 L668.604 86.1857  Z\n",
       "  \" fill=\"#009af9\" fill-rule=\"evenodd\" fill-opacity=\"1\"/>\n",
       "<polyline clip-path=\"url(#clip532)\" style=\"stroke:#000000; stroke-linecap:butt; stroke-linejoin:round; stroke-width:4; stroke-opacity:1; fill:none\" points=\"\n",
       "  668.604,86.1857 668.604,1384.24 720.766,1384.24 720.766,86.1857 668.604,86.1857 \n",
       "  \"/>\n",
       "<path clip-path=\"url(#clip532)\" d=\"\n",
       "M720.766 215.991 L720.766 1384.24 L772.929 1384.24 L772.929 215.991 L720.766 215.991 L720.766 215.991  Z\n",
       "  \" fill=\"#009af9\" fill-rule=\"evenodd\" fill-opacity=\"1\"/>\n",
       "<polyline clip-path=\"url(#clip532)\" style=\"stroke:#000000; stroke-linecap:butt; stroke-linejoin:round; stroke-width:4; stroke-opacity:1; fill:none\" points=\"\n",
       "  720.766,215.991 720.766,1384.24 772.929,1384.24 772.929,215.991 720.766,215.991 \n",
       "  \"/>\n",
       "<path clip-path=\"url(#clip532)\" d=\"\n",
       "M772.929 865.017 L772.929 1384.24 L825.091 1384.24 L825.091 865.017 L772.929 865.017 L772.929 865.017  Z\n",
       "  \" fill=\"#009af9\" fill-rule=\"evenodd\" fill-opacity=\"1\"/>\n",
       "<polyline clip-path=\"url(#clip532)\" style=\"stroke:#000000; stroke-linecap:butt; stroke-linejoin:round; stroke-width:4; stroke-opacity:1; fill:none\" points=\"\n",
       "  772.929,865.017 772.929,1384.24 825.091,1384.24 825.091,865.017 772.929,865.017 \n",
       "  \"/>\n",
       "<path clip-path=\"url(#clip532)\" d=\"\n",
       "M825.091 1254.43 L825.091 1384.24 L877.254 1384.24 L877.254 1254.43 L825.091 1254.43 L825.091 1254.43  Z\n",
       "  \" fill=\"#009af9\" fill-rule=\"evenodd\" fill-opacity=\"1\"/>\n",
       "<polyline clip-path=\"url(#clip532)\" style=\"stroke:#000000; stroke-linecap:butt; stroke-linejoin:round; stroke-width:4; stroke-opacity:1; fill:none\" points=\"\n",
       "  825.091,1254.43 825.091,1384.24 877.254,1384.24 877.254,1254.43 825.091,1254.43 \n",
       "  \"/>\n",
       "<path clip-path=\"url(#clip532)\" d=\"\n",
       "M877.254 605.407 L877.254 1384.24 L929.417 1384.24 L929.417 605.407 L877.254 605.407 L877.254 605.407  Z\n",
       "  \" fill=\"#009af9\" fill-rule=\"evenodd\" fill-opacity=\"1\"/>\n",
       "<polyline clip-path=\"url(#clip532)\" style=\"stroke:#000000; stroke-linecap:butt; stroke-linejoin:round; stroke-width:4; stroke-opacity:1; fill:none\" points=\"\n",
       "  877.254,605.407 877.254,1384.24 929.417,1384.24 929.417,605.407 877.254,605.407 \n",
       "  \"/>\n",
       "<path clip-path=\"url(#clip532)\" d=\"\n",
       "M929.417 475.601 L929.417 1384.24 L981.579 1384.24 L981.579 475.601 L929.417 475.601 L929.417 475.601  Z\n",
       "  \" fill=\"#009af9\" fill-rule=\"evenodd\" fill-opacity=\"1\"/>\n",
       "<polyline clip-path=\"url(#clip532)\" style=\"stroke:#000000; stroke-linecap:butt; stroke-linejoin:round; stroke-width:4; stroke-opacity:1; fill:none\" points=\"\n",
       "  929.417,475.601 929.417,1384.24 981.579,1384.24 981.579,475.601 929.417,475.601 \n",
       "  \"/>\n",
       "<path clip-path=\"url(#clip532)\" d=\"\n",
       "M981.579 605.407 L981.579 1384.24 L1033.74 1384.24 L1033.74 605.407 L981.579 605.407 L981.579 605.407  Z\n",
       "  \" fill=\"#009af9\" fill-rule=\"evenodd\" fill-opacity=\"1\"/>\n",
       "<polyline clip-path=\"url(#clip532)\" style=\"stroke:#000000; stroke-linecap:butt; stroke-linejoin:round; stroke-width:4; stroke-opacity:1; fill:none\" points=\"\n",
       "  981.579,605.407 981.579,1384.24 1033.74,1384.24 1033.74,605.407 981.579,605.407 \n",
       "  \"/>\n",
       "<path clip-path=\"url(#clip532)\" d=\"\n",
       "M1033.74 345.796 L1033.74 1384.24 L1085.9 1384.24 L1085.9 345.796 L1033.74 345.796 L1033.74 345.796  Z\n",
       "  \" fill=\"#009af9\" fill-rule=\"evenodd\" fill-opacity=\"1\"/>\n",
       "<polyline clip-path=\"url(#clip532)\" style=\"stroke:#000000; stroke-linecap:butt; stroke-linejoin:round; stroke-width:4; stroke-opacity:1; fill:none\" points=\"\n",
       "  1033.74,345.796 1033.74,1384.24 1085.9,1384.24 1085.9,345.796 1033.74,345.796 \n",
       "  \"/>\n",
       "<path clip-path=\"url(#clip532)\" d=\"\n",
       "M1085.9 475.601 L1085.9 1384.24 L1138.07 1384.24 L1138.07 475.601 L1085.9 475.601 L1085.9 475.601  Z\n",
       "  \" fill=\"#009af9\" fill-rule=\"evenodd\" fill-opacity=\"1\"/>\n",
       "<polyline clip-path=\"url(#clip532)\" style=\"stroke:#000000; stroke-linecap:butt; stroke-linejoin:round; stroke-width:4; stroke-opacity:1; fill:none\" points=\"\n",
       "  1085.9,475.601 1085.9,1384.24 1138.07,1384.24 1138.07,475.601 1085.9,475.601 \n",
       "  \"/>\n",
       "<path clip-path=\"url(#clip532)\" d=\"\n",
       "M1138.07 994.822 L1138.07 1384.24 L1190.23 1384.24 L1190.23 994.822 L1138.07 994.822 L1138.07 994.822  Z\n",
       "  \" fill=\"#009af9\" fill-rule=\"evenodd\" fill-opacity=\"1\"/>\n",
       "<polyline clip-path=\"url(#clip532)\" style=\"stroke:#000000; stroke-linecap:butt; stroke-linejoin:round; stroke-width:4; stroke-opacity:1; fill:none\" points=\"\n",
       "  1138.07,994.822 1138.07,1384.24 1190.23,1384.24 1190.23,994.822 1138.07,994.822 \n",
       "  \"/>\n",
       "<path clip-path=\"url(#clip532)\" d=\"\n",
       "M1190.23 605.407 L1190.23 1384.24 L1242.39 1384.24 L1242.39 605.407 L1190.23 605.407 L1190.23 605.407  Z\n",
       "  \" fill=\"#009af9\" fill-rule=\"evenodd\" fill-opacity=\"1\"/>\n",
       "<polyline clip-path=\"url(#clip532)\" style=\"stroke:#000000; stroke-linecap:butt; stroke-linejoin:round; stroke-width:4; stroke-opacity:1; fill:none\" points=\"\n",
       "  1190.23,605.407 1190.23,1384.24 1242.39,1384.24 1242.39,605.407 1190.23,605.407 \n",
       "  \"/>\n",
       "<path clip-path=\"url(#clip532)\" d=\"\n",
       "M1242.39 605.407 L1242.39 1384.24 L1294.55 1384.24 L1294.55 605.407 L1242.39 605.407 L1242.39 605.407  Z\n",
       "  \" fill=\"#009af9\" fill-rule=\"evenodd\" fill-opacity=\"1\"/>\n",
       "<polyline clip-path=\"url(#clip532)\" style=\"stroke:#000000; stroke-linecap:butt; stroke-linejoin:round; stroke-width:4; stroke-opacity:1; fill:none\" points=\"\n",
       "  1242.39,605.407 1242.39,1384.24 1294.55,1384.24 1294.55,605.407 1242.39,605.407 \n",
       "  \"/>\n",
       "<path clip-path=\"url(#clip532)\" d=\"\n",
       "M1294.55 865.017 L1294.55 1384.24 L1346.72 1384.24 L1346.72 865.017 L1294.55 865.017 L1294.55 865.017  Z\n",
       "  \" fill=\"#009af9\" fill-rule=\"evenodd\" fill-opacity=\"1\"/>\n",
       "<polyline clip-path=\"url(#clip532)\" style=\"stroke:#000000; stroke-linecap:butt; stroke-linejoin:round; stroke-width:4; stroke-opacity:1; fill:none\" points=\"\n",
       "  1294.55,865.017 1294.55,1384.24 1346.72,1384.24 1346.72,865.017 1294.55,865.017 \n",
       "  \"/>\n",
       "<path clip-path=\"url(#clip532)\" d=\"\n",
       "M1346.72 215.991 L1346.72 1384.24 L1398.88 1384.24 L1398.88 215.991 L1346.72 215.991 L1346.72 215.991  Z\n",
       "  \" fill=\"#009af9\" fill-rule=\"evenodd\" fill-opacity=\"1\"/>\n",
       "<polyline clip-path=\"url(#clip532)\" style=\"stroke:#000000; stroke-linecap:butt; stroke-linejoin:round; stroke-width:4; stroke-opacity:1; fill:none\" points=\"\n",
       "  1346.72,215.991 1346.72,1384.24 1398.88,1384.24 1398.88,215.991 1346.72,215.991 \n",
       "  \"/>\n",
       "<path clip-path=\"url(#clip532)\" d=\"\n",
       "M1398.88 475.601 L1398.88 1384.24 L1451.04 1384.24 L1451.04 475.601 L1398.88 475.601 L1398.88 475.601  Z\n",
       "  \" fill=\"#009af9\" fill-rule=\"evenodd\" fill-opacity=\"1\"/>\n",
       "<polyline clip-path=\"url(#clip532)\" style=\"stroke:#000000; stroke-linecap:butt; stroke-linejoin:round; stroke-width:4; stroke-opacity:1; fill:none\" points=\"\n",
       "  1398.88,475.601 1398.88,1384.24 1451.04,1384.24 1451.04,475.601 1398.88,475.601 \n",
       "  \"/>\n",
       "<path clip-path=\"url(#clip532)\" d=\"\n",
       "M1451.04 735.212 L1451.04 1384.24 L1503.2 1384.24 L1503.2 735.212 L1451.04 735.212 L1451.04 735.212  Z\n",
       "  \" fill=\"#009af9\" fill-rule=\"evenodd\" fill-opacity=\"1\"/>\n",
       "<polyline clip-path=\"url(#clip532)\" style=\"stroke:#000000; stroke-linecap:butt; stroke-linejoin:round; stroke-width:4; stroke-opacity:1; fill:none\" points=\"\n",
       "  1451.04,735.212 1451.04,1384.24 1503.2,1384.24 1503.2,735.212 1451.04,735.212 \n",
       "  \"/>\n",
       "<path clip-path=\"url(#clip532)\" d=\"\n",
       "M1503.2 1124.63 L1503.2 1384.24 L1555.37 1384.24 L1555.37 1124.63 L1503.2 1124.63 L1503.2 1124.63  Z\n",
       "  \" fill=\"#009af9\" fill-rule=\"evenodd\" fill-opacity=\"1\"/>\n",
       "<polyline clip-path=\"url(#clip532)\" style=\"stroke:#000000; stroke-linecap:butt; stroke-linejoin:round; stroke-width:4; stroke-opacity:1; fill:none\" points=\"\n",
       "  1503.2,1124.63 1503.2,1384.24 1555.37,1384.24 1555.37,1124.63 1503.2,1124.63 \n",
       "  \"/>\n",
       "<path clip-path=\"url(#clip532)\" d=\"\n",
       "M1555.37 345.796 L1555.37 1384.24 L1607.53 1384.24 L1607.53 345.796 L1555.37 345.796 L1555.37 345.796  Z\n",
       "  \" fill=\"#009af9\" fill-rule=\"evenodd\" fill-opacity=\"1\"/>\n",
       "<polyline clip-path=\"url(#clip532)\" style=\"stroke:#000000; stroke-linecap:butt; stroke-linejoin:round; stroke-width:4; stroke-opacity:1; fill:none\" points=\"\n",
       "  1555.37,345.796 1555.37,1384.24 1607.53,1384.24 1607.53,345.796 1555.37,345.796 \n",
       "  \"/>\n",
       "<path clip-path=\"url(#clip532)\" d=\"\n",
       "M1607.53 994.822 L1607.53 1384.24 L1659.69 1384.24 L1659.69 994.822 L1607.53 994.822 L1607.53 994.822  Z\n",
       "  \" fill=\"#009af9\" fill-rule=\"evenodd\" fill-opacity=\"1\"/>\n",
       "<polyline clip-path=\"url(#clip532)\" style=\"stroke:#000000; stroke-linecap:butt; stroke-linejoin:round; stroke-width:4; stroke-opacity:1; fill:none\" points=\"\n",
       "  1607.53,994.822 1607.53,1384.24 1659.69,1384.24 1659.69,994.822 1607.53,994.822 \n",
       "  \"/>\n",
       "<path clip-path=\"url(#clip532)\" d=\"\n",
       "M1659.69 865.017 L1659.69 1384.24 L1711.86 1384.24 L1711.86 865.017 L1659.69 865.017 L1659.69 865.017  Z\n",
       "  \" fill=\"#009af9\" fill-rule=\"evenodd\" fill-opacity=\"1\"/>\n",
       "<polyline clip-path=\"url(#clip532)\" style=\"stroke:#000000; stroke-linecap:butt; stroke-linejoin:round; stroke-width:4; stroke-opacity:1; fill:none\" points=\"\n",
       "  1659.69,865.017 1659.69,1384.24 1711.86,1384.24 1711.86,865.017 1659.69,865.017 \n",
       "  \"/>\n",
       "<path clip-path=\"url(#clip532)\" d=\"\n",
       "M1711.86 1254.43 L1711.86 1384.24 L1764.02 1384.24 L1764.02 1254.43 L1711.86 1254.43 L1711.86 1254.43  Z\n",
       "  \" fill=\"#009af9\" fill-rule=\"evenodd\" fill-opacity=\"1\"/>\n",
       "<polyline clip-path=\"url(#clip532)\" style=\"stroke:#000000; stroke-linecap:butt; stroke-linejoin:round; stroke-width:4; stroke-opacity:1; fill:none\" points=\"\n",
       "  1711.86,1254.43 1711.86,1384.24 1764.02,1384.24 1764.02,1254.43 1711.86,1254.43 \n",
       "  \"/>\n",
       "<path clip-path=\"url(#clip532)\" d=\"\n",
       "M1764.02 1254.43 L1764.02 1384.24 L1816.18 1384.24 L1816.18 1254.43 L1764.02 1254.43 L1764.02 1254.43  Z\n",
       "  \" fill=\"#009af9\" fill-rule=\"evenodd\" fill-opacity=\"1\"/>\n",
       "<polyline clip-path=\"url(#clip532)\" style=\"stroke:#000000; stroke-linecap:butt; stroke-linejoin:round; stroke-width:4; stroke-opacity:1; fill:none\" points=\"\n",
       "  1764.02,1254.43 1764.02,1384.24 1816.18,1384.24 1816.18,1254.43 1764.02,1254.43 \n",
       "  \"/>\n",
       "<path clip-path=\"url(#clip532)\" d=\"\n",
       "M1816.18 994.822 L1816.18 1384.24 L1868.34 1384.24 L1868.34 994.822 L1816.18 994.822 L1816.18 994.822  Z\n",
       "  \" fill=\"#009af9\" fill-rule=\"evenodd\" fill-opacity=\"1\"/>\n",
       "<polyline clip-path=\"url(#clip532)\" style=\"stroke:#000000; stroke-linecap:butt; stroke-linejoin:round; stroke-width:4; stroke-opacity:1; fill:none\" points=\"\n",
       "  1816.18,994.822 1816.18,1384.24 1868.34,1384.24 1868.34,994.822 1816.18,994.822 \n",
       "  \"/>\n",
       "<path clip-path=\"url(#clip532)\" d=\"\n",
       "M1868.34 1254.43 L1868.34 1384.24 L1920.51 1384.24 L1920.51 1254.43 L1868.34 1254.43 L1868.34 1254.43  Z\n",
       "  \" fill=\"#009af9\" fill-rule=\"evenodd\" fill-opacity=\"1\"/>\n",
       "<polyline clip-path=\"url(#clip532)\" style=\"stroke:#000000; stroke-linecap:butt; stroke-linejoin:round; stroke-width:4; stroke-opacity:1; fill:none\" points=\"\n",
       "  1868.34,1254.43 1868.34,1384.24 1920.51,1384.24 1920.51,1254.43 1868.34,1254.43 \n",
       "  \"/>\n",
       "<path clip-path=\"url(#clip532)\" d=\"\n",
       "M1920.51 1254.43 L1920.51 1384.24 L1972.67 1384.24 L1972.67 1254.43 L1920.51 1254.43 L1920.51 1254.43  Z\n",
       "  \" fill=\"#009af9\" fill-rule=\"evenodd\" fill-opacity=\"1\"/>\n",
       "<polyline clip-path=\"url(#clip532)\" style=\"stroke:#000000; stroke-linecap:butt; stroke-linejoin:round; stroke-width:4; stroke-opacity:1; fill:none\" points=\"\n",
       "  1920.51,1254.43 1920.51,1384.24 1972.67,1384.24 1972.67,1254.43 1920.51,1254.43 \n",
       "  \"/>\n",
       "<path clip-path=\"url(#clip532)\" d=\"\n",
       "M1972.67 1384.24 L1972.67 1384.24 L2024.83 1384.24 L2024.83 1384.24 L1972.67 1384.24 L1972.67 1384.24  Z\n",
       "  \" fill=\"#009af9\" fill-rule=\"evenodd\" fill-opacity=\"1\"/>\n",
       "<polyline clip-path=\"url(#clip532)\" style=\"stroke:#000000; stroke-linecap:butt; stroke-linejoin:round; stroke-width:4; stroke-opacity:1; fill:none\" points=\"\n",
       "  1972.67,1384.24 1972.67,1384.24 2024.83,1384.24 1972.67,1384.24 \n",
       "  \"/>\n",
       "<path clip-path=\"url(#clip532)\" d=\"\n",
       "M2024.83 1254.43 L2024.83 1384.24 L2076.99 1384.24 L2076.99 1254.43 L2024.83 1254.43 L2024.83 1254.43  Z\n",
       "  \" fill=\"#009af9\" fill-rule=\"evenodd\" fill-opacity=\"1\"/>\n",
       "<polyline clip-path=\"url(#clip532)\" style=\"stroke:#000000; stroke-linecap:butt; stroke-linejoin:round; stroke-width:4; stroke-opacity:1; fill:none\" points=\"\n",
       "  2024.83,1254.43 2024.83,1384.24 2076.99,1384.24 2076.99,1254.43 2024.83,1254.43 \n",
       "  \"/>\n",
       "<path clip-path=\"url(#clip532)\" d=\"\n",
       "M2076.99 865.017 L2076.99 1384.24 L2129.16 1384.24 L2129.16 865.017 L2076.99 865.017 L2076.99 865.017  Z\n",
       "  \" fill=\"#009af9\" fill-rule=\"evenodd\" fill-opacity=\"1\"/>\n",
       "<polyline clip-path=\"url(#clip532)\" style=\"stroke:#000000; stroke-linecap:butt; stroke-linejoin:round; stroke-width:4; stroke-opacity:1; fill:none\" points=\"\n",
       "  2076.99,865.017 2076.99,1384.24 2129.16,1384.24 2129.16,865.017 2076.99,865.017 \n",
       "  \"/>\n",
       "<path clip-path=\"url(#clip532)\" d=\"\n",
       "M2129.16 1384.24 L2129.16 1384.24 L2181.32 1384.24 L2181.32 1384.24 L2129.16 1384.24 L2129.16 1384.24  Z\n",
       "  \" fill=\"#009af9\" fill-rule=\"evenodd\" fill-opacity=\"1\"/>\n",
       "<polyline clip-path=\"url(#clip532)\" style=\"stroke:#000000; stroke-linecap:butt; stroke-linejoin:round; stroke-width:4; stroke-opacity:1; fill:none\" points=\"\n",
       "  2129.16,1384.24 2129.16,1384.24 2181.32,1384.24 2129.16,1384.24 \n",
       "  \"/>\n",
       "<path clip-path=\"url(#clip532)\" d=\"\n",
       "M2181.32 1254.43 L2181.32 1384.24 L2233.48 1384.24 L2233.48 1254.43 L2181.32 1254.43 L2181.32 1254.43  Z\n",
       "  \" fill=\"#009af9\" fill-rule=\"evenodd\" fill-opacity=\"1\"/>\n",
       "<polyline clip-path=\"url(#clip532)\" style=\"stroke:#000000; stroke-linecap:butt; stroke-linejoin:round; stroke-width:4; stroke-opacity:1; fill:none\" points=\"\n",
       "  2181.32,1254.43 2181.32,1384.24 2233.48,1384.24 2233.48,1254.43 2181.32,1254.43 \n",
       "  \"/>\n",
       "<circle clip-path=\"url(#clip532)\" style=\"fill:#009af9; stroke:none; fill-opacity:0\" cx=\"329.547\" cy=\"1254.43\" r=\"2\"/>\n",
       "<circle clip-path=\"url(#clip532)\" style=\"fill:#009af9; stroke:none; fill-opacity:0\" cx=\"381.709\" cy=\"994.822\" r=\"2\"/>\n",
       "<circle clip-path=\"url(#clip532)\" style=\"fill:#009af9; stroke:none; fill-opacity:0\" cx=\"433.872\" cy=\"1254.43\" r=\"2\"/>\n",
       "<circle clip-path=\"url(#clip532)\" style=\"fill:#009af9; stroke:none; fill-opacity:0\" cx=\"486.035\" cy=\"865.017\" r=\"2\"/>\n",
       "<circle clip-path=\"url(#clip532)\" style=\"fill:#009af9; stroke:none; fill-opacity:0\" cx=\"538.197\" cy=\"1124.63\" r=\"2\"/>\n",
       "<circle clip-path=\"url(#clip532)\" style=\"fill:#009af9; stroke:none; fill-opacity:0\" cx=\"590.36\" cy=\"735.212\" r=\"2\"/>\n",
       "<circle clip-path=\"url(#clip532)\" style=\"fill:#009af9; stroke:none; fill-opacity:0\" cx=\"642.522\" cy=\"605.407\" r=\"2\"/>\n",
       "<circle clip-path=\"url(#clip532)\" style=\"fill:#009af9; stroke:none; fill-opacity:0\" cx=\"694.685\" cy=\"86.1857\" r=\"2\"/>\n",
       "<circle clip-path=\"url(#clip532)\" style=\"fill:#009af9; stroke:none; fill-opacity:0\" cx=\"746.848\" cy=\"215.991\" r=\"2\"/>\n",
       "<circle clip-path=\"url(#clip532)\" style=\"fill:#009af9; stroke:none; fill-opacity:0\" cx=\"799.01\" cy=\"865.017\" r=\"2\"/>\n",
       "<circle clip-path=\"url(#clip532)\" style=\"fill:#009af9; stroke:none; fill-opacity:0\" cx=\"851.173\" cy=\"1254.43\" r=\"2\"/>\n",
       "<circle clip-path=\"url(#clip532)\" style=\"fill:#009af9; stroke:none; fill-opacity:0\" cx=\"903.335\" cy=\"605.407\" r=\"2\"/>\n",
       "<circle clip-path=\"url(#clip532)\" style=\"fill:#009af9; stroke:none; fill-opacity:0\" cx=\"955.498\" cy=\"475.601\" r=\"2\"/>\n",
       "<circle clip-path=\"url(#clip532)\" style=\"fill:#009af9; stroke:none; fill-opacity:0\" cx=\"1007.66\" cy=\"605.407\" r=\"2\"/>\n",
       "<circle clip-path=\"url(#clip532)\" style=\"fill:#009af9; stroke:none; fill-opacity:0\" cx=\"1059.82\" cy=\"345.796\" r=\"2\"/>\n",
       "<circle clip-path=\"url(#clip532)\" style=\"fill:#009af9; stroke:none; fill-opacity:0\" cx=\"1111.99\" cy=\"475.601\" r=\"2\"/>\n",
       "<circle clip-path=\"url(#clip532)\" style=\"fill:#009af9; stroke:none; fill-opacity:0\" cx=\"1164.15\" cy=\"994.822\" r=\"2\"/>\n",
       "<circle clip-path=\"url(#clip532)\" style=\"fill:#009af9; stroke:none; fill-opacity:0\" cx=\"1216.31\" cy=\"605.407\" r=\"2\"/>\n",
       "<circle clip-path=\"url(#clip532)\" style=\"fill:#009af9; stroke:none; fill-opacity:0\" cx=\"1268.47\" cy=\"605.407\" r=\"2\"/>\n",
       "<circle clip-path=\"url(#clip532)\" style=\"fill:#009af9; stroke:none; fill-opacity:0\" cx=\"1320.64\" cy=\"865.017\" r=\"2\"/>\n",
       "<circle clip-path=\"url(#clip532)\" style=\"fill:#009af9; stroke:none; fill-opacity:0\" cx=\"1372.8\" cy=\"215.991\" r=\"2\"/>\n",
       "<circle clip-path=\"url(#clip532)\" style=\"fill:#009af9; stroke:none; fill-opacity:0\" cx=\"1424.96\" cy=\"475.601\" r=\"2\"/>\n",
       "<circle clip-path=\"url(#clip532)\" style=\"fill:#009af9; stroke:none; fill-opacity:0\" cx=\"1477.12\" cy=\"735.212\" r=\"2\"/>\n",
       "<circle clip-path=\"url(#clip532)\" style=\"fill:#009af9; stroke:none; fill-opacity:0\" cx=\"1529.29\" cy=\"1124.63\" r=\"2\"/>\n",
       "<circle clip-path=\"url(#clip532)\" style=\"fill:#009af9; stroke:none; fill-opacity:0\" cx=\"1581.45\" cy=\"345.796\" r=\"2\"/>\n",
       "<circle clip-path=\"url(#clip532)\" style=\"fill:#009af9; stroke:none; fill-opacity:0\" cx=\"1633.61\" cy=\"994.822\" r=\"2\"/>\n",
       "<circle clip-path=\"url(#clip532)\" style=\"fill:#009af9; stroke:none; fill-opacity:0\" cx=\"1685.77\" cy=\"865.017\" r=\"2\"/>\n",
       "<circle clip-path=\"url(#clip532)\" style=\"fill:#009af9; stroke:none; fill-opacity:0\" cx=\"1737.94\" cy=\"1254.43\" r=\"2\"/>\n",
       "<circle clip-path=\"url(#clip532)\" style=\"fill:#009af9; stroke:none; fill-opacity:0\" cx=\"1790.1\" cy=\"1254.43\" r=\"2\"/>\n",
       "<circle clip-path=\"url(#clip532)\" style=\"fill:#009af9; stroke:none; fill-opacity:0\" cx=\"1842.26\" cy=\"994.822\" r=\"2\"/>\n",
       "<circle clip-path=\"url(#clip532)\" style=\"fill:#009af9; stroke:none; fill-opacity:0\" cx=\"1894.42\" cy=\"1254.43\" r=\"2\"/>\n",
       "<circle clip-path=\"url(#clip532)\" style=\"fill:#009af9; stroke:none; fill-opacity:0\" cx=\"1946.59\" cy=\"1254.43\" r=\"2\"/>\n",
       "<circle clip-path=\"url(#clip532)\" style=\"fill:#009af9; stroke:none; fill-opacity:0\" cx=\"1998.75\" cy=\"1384.24\" r=\"2\"/>\n",
       "<circle clip-path=\"url(#clip532)\" style=\"fill:#009af9; stroke:none; fill-opacity:0\" cx=\"2050.91\" cy=\"1254.43\" r=\"2\"/>\n",
       "<circle clip-path=\"url(#clip532)\" style=\"fill:#009af9; stroke:none; fill-opacity:0\" cx=\"2103.07\" cy=\"865.017\" r=\"2\"/>\n",
       "<circle clip-path=\"url(#clip532)\" style=\"fill:#009af9; stroke:none; fill-opacity:0\" cx=\"2155.24\" cy=\"1384.24\" r=\"2\"/>\n",
       "<circle clip-path=\"url(#clip532)\" style=\"fill:#009af9; stroke:none; fill-opacity:0\" cx=\"2207.4\" cy=\"1254.43\" r=\"2\"/>\n",
       "<path clip-path=\"url(#clip530)\" d=\"\n",
       "M1740.03 196.789 L2280.47 196.789 L2280.47 93.1086 L1740.03 93.1086  Z\n",
       "  \" fill=\"#ffffff\" fill-rule=\"evenodd\" fill-opacity=\"1\"/>\n",
       "<polyline clip-path=\"url(#clip530)\" style=\"stroke:#000000; stroke-linecap:butt; stroke-linejoin:round; stroke-width:4; stroke-opacity:1; fill:none\" points=\"\n",
       "  1740.03,196.789 2280.47,196.789 2280.47,93.1086 1740.03,93.1086 1740.03,196.789 \n",
       "  \"/>\n",
       "<path clip-path=\"url(#clip530)\" d=\"\n",
       "M1764.03 165.685 L1908.03 165.685 L1908.03 124.213 L1764.03 124.213 L1764.03 165.685  Z\n",
       "  \" fill=\"#009af9\" fill-rule=\"evenodd\" fill-opacity=\"1\"/>\n",
       "<polyline clip-path=\"url(#clip530)\" style=\"stroke:#000000; stroke-linecap:butt; stroke-linejoin:round; stroke-width:4; stroke-opacity:1; fill:none\" points=\"\n",
       "  1764.03,165.685 1908.03,165.685 1908.03,124.213 1764.03,124.213 1764.03,165.685 \n",
       "  \"/>\n",
       "<path clip-path=\"url(#clip530)\" d=\"M1932.03 127.669 L1936.71 127.669 L1936.71 158.293 L1953.54 158.293 L1953.54 162.229 L1932.03 162.229 L1932.03 127.669 Z\" fill=\"#000000\" fill-rule=\"evenodd\" fill-opacity=\"1\" /><path clip-path=\"url(#clip530)\" d=\"M1979.6 148.201 L1979.6 150.284 L1960.02 150.284 Q1960.3 154.682 1962.66 156.997 Q1965.04 159.289 1969.28 159.289 Q1971.73 159.289 1974.02 158.687 Q1976.34 158.085 1978.61 156.881 L1978.61 160.909 Q1976.31 161.881 1973.91 162.391 Q1971.5 162.9 1969.02 162.9 Q1962.82 162.9 1959.18 159.289 Q1955.57 155.678 1955.57 149.52 Q1955.57 143.155 1959 139.428 Q1962.45 135.678 1968.28 135.678 Q1973.51 135.678 1976.55 139.057 Q1979.6 142.414 1979.6 148.201 M1975.34 146.951 Q1975.3 143.456 1973.37 141.372 Q1971.48 139.289 1968.33 139.289 Q1964.76 139.289 1962.61 141.303 Q1960.48 143.317 1960.16 146.974 L1975.34 146.951 Z\" fill=\"#000000\" fill-rule=\"evenodd\" fill-opacity=\"1\" /><path clip-path=\"url(#clip530)\" d=\"M2008.14 146.581 L2008.14 162.229 L2003.88 162.229 L2003.88 146.719 Q2003.88 143.039 2002.45 141.21 Q2001.01 139.382 1998.14 139.382 Q1994.69 139.382 1992.7 141.581 Q1990.71 143.78 1990.71 147.576 L1990.71 162.229 L1986.43 162.229 L1986.43 136.303 L1990.71 136.303 L1990.71 140.331 Q1992.24 137.993 1994.3 136.835 Q1996.38 135.678 1999.09 135.678 Q2003.56 135.678 2005.85 138.456 Q2008.14 141.21 2008.14 146.581 Z\" fill=\"#000000\" fill-rule=\"evenodd\" fill-opacity=\"1\" /><path clip-path=\"url(#clip530)\" d=\"M2033.7 148.965 Q2033.7 144.335 2031.78 141.789 Q2029.88 139.243 2026.43 139.243 Q2023 139.243 2021.08 141.789 Q2019.18 144.335 2019.18 148.965 Q2019.18 153.571 2021.08 156.118 Q2023 158.664 2026.43 158.664 Q2029.88 158.664 2031.78 156.118 Q2033.7 153.571 2033.7 148.965 M2037.96 159.011 Q2037.96 165.631 2035.02 168.849 Q2032.08 172.09 2026.01 172.09 Q2023.77 172.09 2021.78 171.742 Q2019.79 171.418 2017.91 170.724 L2017.91 166.58 Q2019.79 167.599 2021.62 168.085 Q2023.44 168.571 2025.34 168.571 Q2029.53 168.571 2031.61 166.372 Q2033.7 164.196 2033.7 159.775 L2033.7 157.668 Q2032.38 159.96 2030.32 161.094 Q2028.26 162.229 2025.39 162.229 Q2020.62 162.229 2017.7 158.594 Q2014.79 154.96 2014.79 148.965 Q2014.79 142.946 2017.7 139.312 Q2020.62 135.678 2025.39 135.678 Q2028.26 135.678 2030.32 136.812 Q2032.38 137.946 2033.7 140.238 L2033.7 136.303 L2037.96 136.303 L2037.96 159.011 Z\" fill=\"#000000\" fill-rule=\"evenodd\" fill-opacity=\"1\" /><path clip-path=\"url(#clip530)\" d=\"M2050.94 128.942 L2050.94 136.303 L2059.72 136.303 L2059.72 139.613 L2050.94 139.613 L2050.94 153.687 Q2050.94 156.858 2051.8 157.761 Q2052.68 158.664 2055.34 158.664 L2059.72 158.664 L2059.72 162.229 L2055.34 162.229 Q2050.41 162.229 2048.54 160.4 Q2046.66 158.548 2046.66 153.687 L2046.66 139.613 L2043.54 139.613 L2043.54 136.303 L2046.66 136.303 L2046.66 128.942 L2050.94 128.942 Z\" fill=\"#000000\" fill-rule=\"evenodd\" fill-opacity=\"1\" /><path clip-path=\"url(#clip530)\" d=\"M2086.87 146.581 L2086.87 162.229 L2082.61 162.229 L2082.61 146.719 Q2082.61 143.039 2081.17 141.21 Q2079.74 139.382 2076.87 139.382 Q2073.42 139.382 2071.43 141.581 Q2069.44 143.78 2069.44 147.576 L2069.44 162.229 L2065.16 162.229 L2065.16 126.21 L2069.44 126.21 L2069.44 140.331 Q2070.97 137.993 2073.03 136.835 Q2075.11 135.678 2077.82 135.678 Q2082.29 135.678 2084.58 138.456 Q2086.87 141.21 2086.87 146.581 Z\" fill=\"#000000\" fill-rule=\"evenodd\" fill-opacity=\"1\" /><path clip-path=\"url(#clip530)\" d=\"M2110.43 136.303 L2114.69 136.303 L2114.69 162.229 L2110.43 162.229 L2110.43 136.303 M2110.43 126.21 L2114.69 126.21 L2114.69 131.604 L2110.43 131.604 L2110.43 126.21 Z\" fill=\"#000000\" fill-rule=\"evenodd\" fill-opacity=\"1\" /><path clip-path=\"url(#clip530)\" d=\"M2145.16 146.581 L2145.16 162.229 L2140.9 162.229 L2140.9 146.719 Q2140.9 143.039 2139.46 141.21 Q2138.03 139.382 2135.16 139.382 Q2131.71 139.382 2129.72 141.581 Q2127.73 143.78 2127.73 147.576 L2127.73 162.229 L2123.44 162.229 L2123.44 136.303 L2127.73 136.303 L2127.73 140.331 Q2129.25 137.993 2131.31 136.835 Q2133.4 135.678 2136.11 135.678 Q2140.57 135.678 2142.86 138.456 Q2145.16 141.21 2145.16 146.581 Z\" fill=\"#000000\" fill-rule=\"evenodd\" fill-opacity=\"1\" /><path clip-path=\"url(#clip530)\" d=\"M2187.38 137.298 L2187.38 141.28 Q2185.57 140.284 2183.74 139.798 Q2181.94 139.289 2180.09 139.289 Q2175.94 139.289 2173.65 141.928 Q2171.36 144.544 2171.36 149.289 Q2171.36 154.034 2173.65 156.673 Q2175.94 159.289 2180.09 159.289 Q2181.94 159.289 2183.74 158.803 Q2185.57 158.293 2187.38 157.298 L2187.38 161.233 Q2185.6 162.067 2183.67 162.483 Q2181.78 162.9 2179.62 162.9 Q2173.77 162.9 2170.32 159.219 Q2166.87 155.539 2166.87 149.289 Q2166.87 142.946 2170.34 139.312 Q2173.84 135.678 2179.9 135.678 Q2181.87 135.678 2183.74 136.095 Q2185.62 136.488 2187.38 137.298 Z\" fill=\"#000000\" fill-rule=\"evenodd\" fill-opacity=\"1\" /><path clip-path=\"url(#clip530)\" d=\"M2214.97 141.28 Q2216.57 138.409 2218.79 137.044 Q2221.01 135.678 2224.02 135.678 Q2228.07 135.678 2230.27 138.525 Q2232.47 141.349 2232.47 146.581 L2232.47 162.229 L2228.19 162.229 L2228.19 146.719 Q2228.19 142.993 2226.87 141.187 Q2225.55 139.382 2222.84 139.382 Q2219.53 139.382 2217.61 141.581 Q2215.69 143.78 2215.69 147.576 L2215.69 162.229 L2211.41 162.229 L2211.41 146.719 Q2211.41 142.969 2210.09 141.187 Q2208.77 139.382 2206.01 139.382 Q2202.75 139.382 2200.83 141.604 Q2198.91 143.803 2198.91 147.576 L2198.91 162.229 L2194.62 162.229 L2194.62 136.303 L2198.91 136.303 L2198.91 140.331 Q2200.36 137.946 2202.4 136.812 Q2204.44 135.678 2207.24 135.678 Q2210.06 135.678 2212.03 137.113 Q2214.02 138.548 2214.97 141.28 Z\" fill=\"#000000\" fill-rule=\"evenodd\" fill-opacity=\"1\" /></svg>\n"
      ]
     },
     "execution_count": 32,
     "metadata": {},
     "output_type": "execute_result"
    }
   ],
   "source": [
    "Plots.histogram(Iris.sepal_length, \n",
    "                bins = 50, xlabel = \"Sepal Length\", \n",
    "                            labels = \"Length in cm\")"
   ]
  },
  {
   "cell_type": "code",
   "execution_count": null,
   "id": "981bf4e5",
   "metadata": {},
   "outputs": [],
   "source": []
  }
 ],
 "metadata": {
  "kernelspec": {
   "display_name": "Julia 1.7.2",
   "language": "julia",
   "name": "julia-1.7"
  },
  "language_info": {
   "file_extension": ".jl",
   "mimetype": "application/julia",
   "name": "julia",
   "version": "1.7.2"
  }
 },
 "nbformat": 4,
 "nbformat_minor": 5
}
