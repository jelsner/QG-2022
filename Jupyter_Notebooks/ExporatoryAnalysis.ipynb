{
 "cells": [
  {
   "cell_type": "markdown",
   "id": "3406900a",
   "metadata": {},
   "source": [
    "Exploratory analysis with Julia\n",
    "\n",
    "From: https://github.com/mohdsanadzakirizvi/Data-Science-with-Julia"
   ]
  },
  {
   "cell_type": "code",
   "execution_count": 1,
   "id": "997d5b36",
   "metadata": {},
   "outputs": [],
   "source": [
    "using DataFrames"
   ]
  },
  {
   "cell_type": "code",
   "execution_count": null,
   "id": "c49a36e4",
   "metadata": {},
   "outputs": [],
   "source": []
  }
 ],
 "metadata": {
  "kernelspec": {
   "display_name": "Julia 1.7.2",
   "language": "julia",
   "name": "julia-1.7"
  },
  "language_info": {
   "file_extension": ".jl",
   "mimetype": "application/julia",
   "name": "julia",
   "version": "1.7.2"
  }
 },
 "nbformat": 4,
 "nbformat_minor": 5
}
